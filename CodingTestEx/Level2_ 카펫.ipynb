{
 "cells": [
  {
   "cell_type": "code",
   "execution_count": null,
   "metadata": {},
   "outputs": [],
   "source": [
    "def solution(brown, yellow):\n",
    "    y = 2\n",
    "    while True:\n",
    "        if 2*y*y - y*(brown+4) + 2*(brown+yellow) == 0:\n",
    "            x = (brown+4)/2 - y\n",
    "            answer = [int(x),y]\n",
    "            break\n",
    "        else:\n",
    "            y += 1\n",
    "    return answer"
   ]
  }
 ],
 "metadata": {
  "kernelspec": {
   "display_name": "Python 3",
   "language": "python",
   "name": "python3"
  },
  "language_info": {
   "codemirror_mode": {
    "name": "ipython",
    "version": 3
   },
   "file_extension": ".py",
   "mimetype": "text/x-python",
   "name": "python",
   "nbconvert_exporter": "python",
   "pygments_lexer": "ipython3",
   "version": "3.8.3"
  }
 },
 "nbformat": 4,
 "nbformat_minor": 4
}
