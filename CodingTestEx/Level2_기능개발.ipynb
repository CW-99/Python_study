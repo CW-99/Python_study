{
 "cells": [
  {
   "cell_type": "code",
   "execution_count": 1,
   "metadata": {},
   "outputs": [
    {
     "data": {
      "text/plain": [
       "[2, 1]"
      ]
     },
     "execution_count": 1,
     "metadata": {},
     "output_type": "execute_result"
    }
   ],
   "source": [
    "def solution(progresses, speeds):\n",
    "    import numpy as np\n",
    "    np_pro = np.array(progresses)\n",
    "    np_spe = np.array(speeds) \n",
    "    answer = [ ]\n",
    "    while np_pro.size != 0 :\n",
    "        np_pro += np_spe\n",
    "        a = list(np_pro)\n",
    "        b = list(np_spe)\n",
    "        num = 0\n",
    "        while np_pro.size !=0 and (np_pro >= 100)[0] == True : #1\n",
    "            a.pop(0)\n",
    "            b.pop(0)\n",
    "            num += 1\n",
    "            np_pro = np.array(a)\n",
    "            np_spe = np.array(b)\n",
    "        if num > 0:\n",
    "            answer.append(num)\n",
    "    return answer\n",
    "solution([93, 30, 55],[1, 30, 5])"
   ]
  },
  {
   "cell_type": "code",
   "execution_count": null,
   "metadata": {},
   "outputs": [],
   "source": [
    "#1 (np_pro >= 100)[0] == True 할 때 빈 array면 적용이 안되기 때문에 np_pro.size != 0 을 앞쪽 조건으로 달아준다."
   ]
  }
 ],
 "metadata": {
  "kernelspec": {
   "display_name": "Python 3",
   "language": "python",
   "name": "python3"
  },
  "language_info": {
   "codemirror_mode": {
    "name": "ipython",
    "version": 3
   },
   "file_extension": ".py",
   "mimetype": "text/x-python",
   "name": "python",
   "nbconvert_exporter": "python",
   "pygments_lexer": "ipython3",
   "version": "3.8.3"
  }
 },
 "nbformat": 4,
 "nbformat_minor": 4
}
