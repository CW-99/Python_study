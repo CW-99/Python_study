{
 "cells": [
  {
   "cell_type": "code",
   "execution_count": 106,
   "metadata": {},
   "outputs": [],
   "source": [
    "def solution(str1, str2):\n",
    "    low_str1, low_str2 = str1.lower(), str2.lower()\n",
    "    str1_lst, str2_lst = [], []\n",
    "    j1_lst, j2_lst = [],[]\n",
    "    \n",
    "    for i in low_str1: # list로 만듬\n",
    "        str1_lst.append(i)\n",
    "    for k in low_str2:\n",
    "        str2_lst.append(k)\n",
    "    for i in range(len(str1_lst)-1): # 다중집합\n",
    "        if (str1_lst[i]+str1_lst[i+1]).isalpha() == True: # 특수문자, 숫자 \n",
    "            j1_lst.append(str1_lst[i]+str1_lst[i+1])        \n",
    "    for k in range(len(str2_lst)-1):\n",
    "        if (str2_lst[k]+str2_lst[k+1]).isalpha() == True:\n",
    "            j2_lst.append(str2_lst[k]+str2_lst[k+1])\n",
    "      \n",
    "    from collections import Counter\n",
    "    j1_lst_count, j2_lst_count = Counter(j1_lst), Counter(j2_lst)\n",
    "    min_num = 0\n",
    "    j1, j2, intersection =[], [], []\n",
    "    all_number = len((j1_lst+j2_lst))\n",
    "    \n",
    "    for i in range(len(j1_lst)):\n",
    "        if j1_lst[i] in j2_lst and not j1_lst[i] in intersection:\n",
    "            intersection.append(j1_lst[i])\n",
    "            \n",
    "    for s in intersection:\n",
    "        j1.append(j1_lst_count[s])\n",
    "        j2.append(j2_lst_count[s])\n",
    "    for (a,b) in zip(j1,j2):\n",
    "        min_num += min(a,b)\n",
    "    union = all_number - min_num\n",
    "    if union == 0 :\n",
    "        answer = 65536\n",
    "    else:\n",
    "        answer = int((min_num / union) *65536)\n",
    "    return answer"
   ]
  },
  {
   "cell_type": "code",
   "execution_count": 108,
   "metadata": {},
   "outputs": [],
   "source": [
    "# 간략화 / 슬라이싱\n",
    "def solution(str1, str2):\n",
    "    low_str1, low_str2 = str1.lower(), str2.lower()\n",
    "    j1_lst = [ low_str1[i:i+2] for i in range(len(low_str1)-1) if low_str1[i:i+2].isalpha()]\n",
    "    j2_lst = [ low_str2[i:i+2] for i in range(len(low_str2)-1) if low_str2[i:i+2].isalpha()]\n",
    "    all_number = len((j1_lst+j2_lst))\n",
    "    \n",
    "    from collections import Counter\n",
    "    j1_lst_count, j2_lst_count = Counter(j1_lst), Counter(j2_lst)\n",
    "    min_num = 0\n",
    "    j1, j2, intersection =[], [], []\n",
    "    for i in range(len(j1_lst)):\n",
    "        if j1_lst[i] in j2_lst and not j1_lst[i] in intersection:\n",
    "            intersection.append(j1_lst[i])\n",
    "            \n",
    "    for s in intersection:\n",
    "        j1.append(j1_lst_count[s])\n",
    "        j2.append(j2_lst_count[s])\n",
    "    for (a,b) in zip(j1,j2):\n",
    "        min_num += min(a,b)\n",
    "    union = all_number - min_num\n",
    "    if union == 0 :\n",
    "        answer = 65536\n",
    "    else:\n",
    "        answer = int((min_num / union) *65536)\n",
    "    return answer"
   ]
  },
  {
   "cell_type": "code",
   "execution_count": 109,
   "metadata": {},
   "outputs": [
    {
     "data": {
      "text/plain": [
       "65536"
      ]
     },
     "execution_count": 109,
     "metadata": {},
     "output_type": "execute_result"
    }
   ],
   "source": [
    "solution('handshake','shake hands')"
   ]
  },
  {
   "cell_type": "code",
   "execution_count": null,
   "metadata": {},
   "outputs": [],
   "source": [
    "j1_lst = [ low_str1[i:i+2] for i in range(len(low_str1)-1) if low_str1[i:i+2].isalpha()]\n",
    "j2_lst = [ low_str2[i:i+2] for i in range(len(low_str2)-1) if low_str2[i:i+2].isalpha()]"
   ]
  }
 ],
 "metadata": {
  "kernelspec": {
   "display_name": "Python 3",
   "language": "python",
   "name": "python3"
  },
  "language_info": {
   "codemirror_mode": {
    "name": "ipython",
    "version": 3
   },
   "file_extension": ".py",
   "mimetype": "text/x-python",
   "name": "python",
   "nbconvert_exporter": "python",
   "pygments_lexer": "ipython3",
   "version": "3.8.3"
  }
 },
 "nbformat": 4,
 "nbformat_minor": 4
}
