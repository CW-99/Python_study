{
 "cells": [
  {
   "cell_type": "code",
   "execution_count": null,
   "metadata": {},
   "outputs": [],
   "source": [
    "def solution(n):\n",
    "    bin_number = bin(n)[2:]\n",
    "    bin_number_strip0 = bin(n)[2:].strip('0')\n",
    "    if '0' in  bin_number_strip0:\n",
    "        zeroIndex = bin_number.rindex('01')\n",
    "        k = \"\"\n",
    "        for i in sorted(bin_number[zeroIndex+2:]):\n",
    "            k += i\n",
    "        answer = bin_number[:zeroIndex]+'10'+ k\n",
    "        answer = int(answer,2)\n",
    "    else:\n",
    "        x = bin_number.count(\"1\")\n",
    "        answer = \"1\" + (len(bin_number)+1-x)*'0' + (x-1)*'1'\n",
    "        answer = int(answer,2)\n",
    "    return answer"
   ]
  }
 ],
 "metadata": {
  "kernelspec": {
   "display_name": "Python 3",
   "language": "python",
   "name": "python3"
  },
  "language_info": {
   "codemirror_mode": {
    "name": "ipython",
    "version": 3
   },
   "file_extension": ".py",
   "mimetype": "text/x-python",
   "name": "python",
   "nbconvert_exporter": "python",
   "pygments_lexer": "ipython3",
   "version": "3.8.3"
  }
 },
 "nbformat": 4,
 "nbformat_minor": 4
}
