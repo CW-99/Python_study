{
 "cells": [
  {
   "cell_type": "code",
   "execution_count": 27,
   "metadata": {},
   "outputs": [
    {
     "name": "stdout",
     "output_type": "stream",
     "text": [
      "트라이 작동함\n",
      "예외 작동함\n",
      "파이널리 작동함\n"
     ]
    }
   ],
   "source": [
    "try: # 항상 except와 같이 와야함\n",
    "    print(\"트라이 작동함\") # OO\n",
    "    print(트라이작동안함) # XX\n",
    "except:\n",
    "    print('예외 작동함') # OO\n",
    "finally:\n",
    "    print('파이널리 작동함') #OO"
   ]
  },
  {
   "cell_type": "code",
   "execution_count": 35,
   "metadata": {},
   "outputs": [
    {
     "name": "stdout",
     "output_type": "stream",
     "text": [
      "트라이작동함\n"
     ]
    }
   ],
   "source": [
    "try:\n",
    "    print(\"트라이작동함\") ## OO\n",
    "except:\n",
    "    print(\"예외 작동 안함\") # XX"
   ]
  },
  {
   "cell_type": "code",
   "execution_count": 119,
   "metadata": {},
   "outputs": [],
   "source": [
    "# 정답\n",
    "def solution(scoville, K):\n",
    "    answer = 0\n",
    "    scoville.sort()\n",
    "    while True:\n",
    "        if scoville[0] < K and len(scoville) != 1:\n",
    "            scoville.append(scoville[0]+ scoville[1]*2)\n",
    "            scoville.pop(0)\n",
    "            scoville.pop(0)\n",
    "            answer += 1\n",
    "            scoville.sort()\n",
    "        else:\n",
    "            break\n",
    "    if len(scoville) == 1 and scoville[0] < K:\n",
    "        answer = -1\n",
    "    return answer"
   ]
  },
  {
   "cell_type": "code",
   "execution_count": 125,
   "metadata": {},
   "outputs": [],
   "source": [
    "def solution(scoville, K):\n",
    "    answer = 0\n",
    "    import heapq\n",
    "    scoville.sort()\n",
    "    while True:\n",
    "        if scoville[0] < K and len(scoville) != 1:\n",
    "            scoville.append(scoville[0]+ scoville[1]*2)\n",
    "            scoville.pop(0)\n",
    "            scoville.pop(0)\n",
    "            answer += 1\n",
    "            scoville.sort()\n",
    "        else:\n",
    "            break\n",
    "    if len(scoville) == 1 and scoville[0] < K:\n",
    "        answer = -1\n",
    "    return answer"
   ]
  }
 ],
 "metadata": {
  "kernelspec": {
   "display_name": "Python 3",
   "language": "python",
   "name": "python3"
  },
  "language_info": {
   "codemirror_mode": {
    "name": "ipython",
    "version": 3
   },
   "file_extension": ".py",
   "mimetype": "text/x-python",
   "name": "python",
   "nbconvert_exporter": "python",
   "pygments_lexer": "ipython3",
   "version": "3.8.3"
  }
 },
 "nbformat": 4,
 "nbformat_minor": 4
}
