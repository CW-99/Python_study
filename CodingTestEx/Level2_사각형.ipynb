{
 "cells": [
  {
   "cell_type": "code",
   "execution_count": 38,
   "metadata": {},
   "outputs": [],
   "source": [
    "def solution(w,h):\n",
    "    answer = 0\n",
    "    if w == h :\n",
    "        answer = w*h - w\n",
    "    elif w == 1 or h == 1:\n",
    "        answer = 0\n",
    "    else:\n",
    "        import math\n",
    "        gcd = math.gcd(w,h)\n",
    "        gcd_w, gcd_h = w//gcd, h//gcd\n",
    "        if sorted([w,h])[0] == gcd :\n",
    "            answer = w*h - sorted([w,h])[1]\n",
    "        elif gcd == 1:\n",
    "            answer = w*h - (w +h -1)\n",
    "        else:\n",
    "            answer = w * h - gcd * ( w//gcd + h//gcd -1 )\n",
    "    return answer\n",
    "        "
   ]
  },
  {
   "cell_type": "code",
   "execution_count": null,
   "metadata": {},
   "outputs": [],
   "source": [
    "# 결국 같은 거 였음!"
   ]
  },
  {
   "cell_type": "code",
   "execution_count": 39,
   "metadata": {},
   "outputs": [],
   "source": [
    "def solution(w,h):\n",
    "    answer = 0\n",
    "    import math\n",
    "    gcd = math.gcd(w,h)\n",
    "    gcd_w, gcd_h = w//gcd, h//gcd\n",
    "    if gcd ==1:\n",
    "        answer = w*h - (w +h -1)\n",
    "    else:\n",
    "        answer = w * h - gcd * ( w//gcd + h//gcd -1 )\n",
    "    return answer"
   ]
  }
 ],
 "metadata": {
  "kernelspec": {
   "display_name": "Python 3",
   "language": "python",
   "name": "python3"
  },
  "language_info": {
   "codemirror_mode": {
    "name": "ipython",
    "version": 3
   },
   "file_extension": ".py",
   "mimetype": "text/x-python",
   "name": "python",
   "nbconvert_exporter": "python",
   "pygments_lexer": "ipython3",
   "version": "3.8.3"
  }
 },
 "nbformat": 4,
 "nbformat_minor": 4
}
