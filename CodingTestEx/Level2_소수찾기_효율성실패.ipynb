{
 "cells": [
  {
   "cell_type": "code",
   "execution_count": 61,
   "metadata": {},
   "outputs": [],
   "source": [
    "# 정답 > 효율이 떨어짐 56.3점\n",
    "def solution(n):\n",
    "    answer = 1\n",
    "    lst =[2]\n",
    "    for_lst = [ ]\n",
    "    for i in range(3,n+1):\n",
    "        for k in lst:\n",
    "            if int(i/k) != i/k:\n",
    "                for_lst.append(True)\n",
    "            else:\n",
    "                for_lst.append(False)\n",
    "                break\n",
    "        if all(for_lst) == True:\n",
    "            answer += 1\n",
    "            lst.append(i)\n",
    "        for_lst = [ ]\n",
    "    return answer"
   ]
  },
  {
   "cell_type": "code",
   "execution_count": 86,
   "metadata": {},
   "outputs": [],
   "source": [
    "# 효율성 소폭 증가  56.3점\n",
    "def solution(n):\n",
    "    answer = 1\n",
    "    lst =[2]\n",
    "    for i in range(3,n+1):\n",
    "        for k in lst:\n",
    "            if int(i/k) == i/k:\n",
    "                break\n",
    "            else:\n",
    "                if k == lst[-1]:\n",
    "                    answer += 1\n",
    "                    lst.append(i)\n",
    "                continue\n",
    "    return answer"
   ]
  },
  {
   "cell_type": "code",
   "execution_count": 88,
   "metadata": {},
   "outputs": [],
   "source": [
    "# 효율성 조금 더 증가 56.3점\n",
    "def solution(n):\n",
    "    answer = 1\n",
    "    lst =[2]\n",
    "    for i in range(3,n+1):\n",
    "        for k in lst:\n",
    "            if i%k == 0:\n",
    "                break\n",
    "            else:\n",
    "                if k == lst[-1]:\n",
    "                    answer += 1\n",
    "                    lst.append(i)\n",
    "                continue\n",
    "    return answer"
   ]
  },
  {
   "cell_type": "code",
   "execution_count": 169,
   "metadata": {},
   "outputs": [],
   "source": [
    "def solution(n):\n",
    "    answer = 2\n",
    "    lst = [2,3]\n",
    "    import math\n",
    "    if n == 2:\n",
    "        answer = 1\n",
    "    elif n == 3:\n",
    "        answer = 2\n",
    "    else:\n",
    "        for i in range(4, n+1):\n",
    "            lst2 = []\n",
    "            for k in lst:\n",
    "                if k <= int(math.sqrt(n)):\n",
    "                    lst2.append(k)\n",
    "            for v in lst2:\n",
    "                if int(i/v) == i/v:\n",
    "                    break\n",
    "                else:\n",
    "                    if v == lst2[-1]:\n",
    "                        lst.append(i)\n",
    "                        answer += 1\n",
    "                    continue\n",
    "    return answer"
   ]
  },
  {
   "cell_type": "code",
   "execution_count": null,
   "metadata": {},
   "outputs": [],
   "source": [
    "# 수정 중\n",
    "def solution(n):\n",
    "    answer = 1\n",
    "    lst =[2]\n",
    "    import math\n",
    "    for i in range(3,n+1):\n",
    "        for k in lst:\n",
    "            if i%k == 0:\n",
    "                break\n",
    "            elif i%k != 0 and :\n",
    "                if k == lst[-1]:\n",
    "                    answer += 1\n",
    "                    lst.append(i)\n",
    "                continue\n",
    "    return answer"
   ]
  },
  {
   "cell_type": "code",
   "execution_count": 170,
   "metadata": {},
   "outputs": [
    {
     "data": {
      "text/plain": [
       "4"
      ]
     },
     "execution_count": 170,
     "metadata": {},
     "output_type": "execute_result"
    }
   ],
   "source": [
    "solution(10)"
   ]
  }
 ],
 "metadata": {
  "kernelspec": {
   "display_name": "Python 3",
   "language": "python",
   "name": "python3"
  },
  "language_info": {
   "codemirror_mode": {
    "name": "ipython",
    "version": 3
   },
   "file_extension": ".py",
   "mimetype": "text/x-python",
   "name": "python",
   "nbconvert_exporter": "python",
   "pygments_lexer": "ipython3",
   "version": "3.8.3"
  }
 },
 "nbformat": 4,
 "nbformat_minor": 4
}
