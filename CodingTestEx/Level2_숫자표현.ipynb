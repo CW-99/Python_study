{
 "cells": [
  {
   "cell_type": "code",
   "execution_count": null,
   "metadata": {},
   "outputs": [],
   "source": [
    "def solution(n):\n",
    "    answer, x, = 1, 1\n",
    "    while True:\n",
    "        if x*(x+1)/2 <= n < (x+1)*(x+2)/2 :\n",
    "            break\n",
    "        x += 1\n",
    "    k = 1 \n",
    "    for i in range(2,x+1):\n",
    "        if (n-k)% i == 0:\n",
    "            answer += 1\n",
    "        k = k + i\n",
    "    return answer"
   ]
  }
 ],
 "metadata": {
  "kernelspec": {
   "display_name": "Python 3",
   "language": "python",
   "name": "python3"
  },
  "language_info": {
   "codemirror_mode": {
    "name": "ipython",
    "version": 3
   },
   "file_extension": ".py",
   "mimetype": "text/x-python",
   "name": "python",
   "nbconvert_exporter": "python",
   "pygments_lexer": "ipython3",
   "version": "3.8.3"
  }
 },
 "nbformat": 4,
 "nbformat_minor": 4
}
