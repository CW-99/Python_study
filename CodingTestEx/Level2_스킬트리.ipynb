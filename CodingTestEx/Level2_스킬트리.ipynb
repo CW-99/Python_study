{
 "cells": [
  {
   "cell_type": "code",
   "execution_count": 282,
   "metadata": {},
   "outputs": [],
   "source": [
    "# 정답\n",
    "def solution(skill, skill_trees):\n",
    "    answer = 0\n",
    "    skill_lst = list(skill)\n",
    "    skill_trees_lst =[]\n",
    "    for k in skill_trees:\n",
    "        skill_trees_lst.append(list(k))\n",
    "\n",
    "    for sk_tree in skill_trees_lst:\n",
    "        sk_tree_indexs, skill_lst_indexs = [],[]\n",
    "        for i in skill_lst: \n",
    "            if i in sk_tree:  \n",
    "                sk_tree_indexs.append(sk_tree.index(i)) # 내림차순으로 있냐 (1,3,6,8 ...)\n",
    "                skill_lst_indexs.append(skill_lst.index(i)) # 0부터 차례대로 다 있냐 (0,1,2..)\n",
    "        if skill_lst_indexs == list(range(len(skill_lst_indexs))): # 스킬중에서 앞에 것이 없으면 작동 못하는 걸 거름\n",
    "            if sk_tree_indexs == [0]:\n",
    "                answer += 1\n",
    "            else: # 내림차순으로 있냐\n",
    "                lst = sk_tree_indexs[:]\n",
    "                lst.sort()\n",
    "                if lst == sk_tree_indexs:\n",
    "                    answer +=1\n",
    "    return answer              "
   ]
  },
  {
   "cell_type": "code",
   "execution_count": 273,
   "metadata": {},
   "outputs": [],
   "source": [
    "# 왜틀렸을까\n",
    "def solution(skill, skill_trees):\n",
    "    answer = 0\n",
    "    skill_lst = list(skill)\n",
    "    skill_trees_lst =[]\n",
    "    for k in skill_trees:\n",
    "        skill_trees_lst.append(list(k))\n",
    "\n",
    "    for sk_tree in skill_trees_lst:\n",
    "        lst1, lst2, lst3 = [],[],[]\n",
    "        for i in skill_lst: \n",
    "            if i in sk_tree: \n",
    "                lst1.append(i) \n",
    "                lst2.append(sk_tree.index(i))\n",
    "        if lst2 == [0]:\n",
    "            answer += 1\n",
    "        else:\n",
    "            for a in lst1:\n",
    "                index_number = sk_tree.index(a)\n",
    "                lst3.append(index_number)\n",
    "                lst4 = lst3[:]\n",
    "                lst4.sort()\n",
    "            if lst3 == lst4:\n",
    "                answer += 1\n",
    "    return answer\n",
    "            "
   ]
  }
 ],
 "metadata": {
  "kernelspec": {
   "display_name": "Python 3",
   "language": "python",
   "name": "python3"
  },
  "language_info": {
   "codemirror_mode": {
    "name": "ipython",
    "version": 3
   },
   "file_extension": ".py",
   "mimetype": "text/x-python",
   "name": "python",
   "nbconvert_exporter": "python",
   "pygments_lexer": "ipython3",
   "version": "3.8.3"
  }
 },
 "nbformat": 4,
 "nbformat_minor": 4
}
