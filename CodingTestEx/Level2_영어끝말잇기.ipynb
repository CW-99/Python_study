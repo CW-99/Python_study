{
 "cells": [
  {
   "cell_type": "code",
   "execution_count": null,
   "metadata": {},
   "outputs": [],
   "source": [
    "def solution(n, words):\n",
    "    index = 0  # 번호 차례 \n",
    "    for i in range(len(words)-1):\n",
    "        finish = words[i][-1]\n",
    "        start = words[i+1][0]\n",
    "        if finish != start or (words[i+1] in words[0:i+1]):\n",
    "            index = i + 1\n",
    "            break\n",
    "    if index == 0 :\n",
    "        answer = [0,0]\n",
    "    else:\n",
    "        a = (index+1)%n # 나머지 = 번호\n",
    "        if a == 0 :\n",
    "            a = n\n",
    "        b = (index)//n + 1  # 몫 \n",
    "        answer = [a,b]\n",
    "    return answer"
   ]
  }
 ],
 "metadata": {
  "kernelspec": {
   "display_name": "Python 3",
   "language": "python",
   "name": "python3"
  },
  "language_info": {
   "codemirror_mode": {
    "name": "ipython",
    "version": 3
   },
   "file_extension": ".py",
   "mimetype": "text/x-python",
   "name": "python",
   "nbconvert_exporter": "python",
   "pygments_lexer": "ipython3",
   "version": "3.8.3"
  }
 },
 "nbformat": 4,
 "nbformat_minor": 4
}
