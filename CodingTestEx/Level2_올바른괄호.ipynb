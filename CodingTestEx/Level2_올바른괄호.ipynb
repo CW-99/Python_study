{
 "cells": [
  {
   "cell_type": "code",
   "execution_count": 1,
   "metadata": {},
   "outputs": [],
   "source": [
    "def solution(s):\n",
    "    import itertools\n",
    "    lst, answer = [], True\n",
    "    for i in s:\n",
    "        if i == '(':\n",
    "            lst.append(1)\n",
    "        else:\n",
    "            lst.append(-1)\n",
    "    if sum(lst) != 0:\n",
    "        answer = False\n",
    "    else:\n",
    "        for i in itertools.accumulate(lst):\n",
    "            if i < 0 :\n",
    "                answer = False\n",
    "                break\n",
    "    return answer "
   ]
  },
  {
   "cell_type": "code",
   "execution_count": null,
   "metadata": {},
   "outputs": [],
   "source": []
  }
 ],
 "metadata": {
  "kernelspec": {
   "display_name": "Python 3",
   "language": "python",
   "name": "python3"
  },
  "language_info": {
   "codemirror_mode": {
    "name": "ipython",
    "version": 3
   },
   "file_extension": ".py",
   "mimetype": "text/x-python",
   "name": "python",
   "nbconvert_exporter": "python",
   "pygments_lexer": "ipython3",
   "version": "3.8.3"
  }
 },
 "nbformat": 4,
 "nbformat_minor": 4
}
