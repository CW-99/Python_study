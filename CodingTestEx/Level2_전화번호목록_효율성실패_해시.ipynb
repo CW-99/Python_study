{
 "cells": [
  {
   "cell_type": "code",
   "execution_count": 1,
   "metadata": {},
   "outputs": [],
   "source": [
    "def solution(phone_book):\n",
    "    answer = True\n",
    "    import re\n",
    "    for i in phone_book:\n",
    "        for k in phone_book:\n",
    "            if re.findall('^{}'.format(i), k) and i != k:\n",
    "                answer = False\n",
    "                break\n",
    "    return answer\n",
    "# 효율성 실패"
   ]
  },
  {
   "cell_type": "code",
   "execution_count": 2,
   "metadata": {},
   "outputs": [],
   "source": [
    "def solution(phone_book):\n",
    "    answer = True\n",
    "    for i in phone_book:\n",
    "        for k in phone_book:\n",
    "            if i == k[0:len(i)] and i != k:\n",
    "                answer = False\n",
    "                break\n",
    "    return answer\n",
    "# re 포기하면 효율이 많이 좋아지긴 함"
   ]
  },
  {
   "cell_type": "code",
   "execution_count": 1,
   "metadata": {},
   "outputs": [],
   "source": [
    "def solution(phone_book):\n",
    "    answer = True\n",
    "    list.sort(phone_book)\n",
    "    for i in range(len(phone_book)):\n",
    "        for k in range(len(phone_book)):\n",
    "            if i < k and phone_book[i] == phone_book[k][0:len(phone_book[i])] :\n",
    "                answer = False\n",
    "                break\n",
    "    return answer\n",
    "# i < k 실패"
   ]
  },
  {
   "cell_type": "code",
   "execution_count": null,
   "metadata": {},
   "outputs": [],
   "source": [
    "def solution(phone_book):\n",
    "    answer = True\n",
    "    list.sort(phone_book)\n",
    "    for i in range(len(phone_book)):\n",
    "        for k in range(len(phone_book)):\n",
    "            I = phone_book[i]\n",
    "            K = phone_book[k]\n",
    "            if i < k and I == K[0:len(I)] :\n",
    "                answer = False\n",
    "                break\n",
    "    return answer\n",
    "# 변수 설정 실패 "
   ]
  },
  {
   "cell_type": "code",
   "execution_count": null,
   "metadata": {},
   "outputs": [],
   "source": [
    "def solution(phone_book):\n",
    "    answer = True\n",
    "    list.sort(phone_book)\n",
    "    for i in range(len(phone_book)):\n",
    "        for k in range(len(phone_book)):\n",
    "            if i < k and phone_book[k].startswith(phone_book[i]):\n",
    "                answer = False\n",
    "                break\n",
    "    return answer\n",
    "# startswith 사용 실패"
   ]
  },
  {
   "cell_type": "code",
   "execution_count": 2,
   "metadata": {},
   "outputs": [],
   "source": [
    "def solution(phone_book):\n",
    "    phone_book.sort()\n",
    "    answer = True\n",
    "    for i in phone_book:\n",
    "        for k in phone_book:\n",
    "            if phone_book.index(i) < phone_book.index(k) and i == k[0:len(i)]:\n",
    "                answer = False\n",
    "                break\n",
    "    return answer\n",
    "# 인덱스 안하고 비교 > 실패"
   ]
  },
  {
   "cell_type": "code",
   "execution_count": 8,
   "metadata": {},
   "outputs": [],
   "source": [
    "def solution(phone_book):\n",
    "    answer = True\n",
    "    list.sort(phone_book)\n",
    "    lens = len(phone_book)\n",
    "    for i in range(lens):\n",
    "        a = [ a for a in range(lens) if i < a ]\n",
    "        for k in a:\n",
    "            if i < k and phone_book[i] == phone_book[k][0:len(phone_book[i])] :\n",
    "                answer = False\n",
    "                break\n",
    "    return answer\n",
    "# i < k 실패"
   ]
  }
 ],
 "metadata": {
  "kernelspec": {
   "display_name": "Python 3",
   "language": "python",
   "name": "python3"
  },
  "language_info": {
   "codemirror_mode": {
    "name": "ipython",
    "version": 3
   },
   "file_extension": ".py",
   "mimetype": "text/x-python",
   "name": "python",
   "nbconvert_exporter": "python",
   "pygments_lexer": "ipython3",
   "version": "3.8.3"
  }
 },
 "nbformat": 4,
 "nbformat_minor": 4
}
