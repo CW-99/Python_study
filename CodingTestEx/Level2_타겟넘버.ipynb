{
 "cells": [
  {
   "cell_type": "code",
   "execution_count": null,
   "metadata": {},
   "outputs": [],
   "source": [
    "def solution(numbers, target):\n",
    "    import itertools as it\n",
    "    sum_num = sum(numbers)\n",
    "    answer = 0\n",
    "    for i in range(len(numbers)):\n",
    "        for subset in it.combinations(numbers, i):\n",
    "            if sum_num - 2* sum(subset) == target:\n",
    "                answer += 1\n",
    "    return answer"
   ]
  }
 ],
 "metadata": {
  "kernelspec": {
   "display_name": "Python 3",
   "language": "python",
   "name": "python3"
  },
  "language_info": {
   "codemirror_mode": {
    "name": "ipython",
    "version": 3
   },
   "file_extension": ".py",
   "mimetype": "text/x-python",
   "name": "python",
   "nbconvert_exporter": "python",
   "pygments_lexer": "ipython3",
   "version": "3.8.3"
  }
 },
 "nbformat": 4,
 "nbformat_minor": 4
}
