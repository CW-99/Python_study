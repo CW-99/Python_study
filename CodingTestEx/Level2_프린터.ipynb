{
 "cells": [
  {
   "cell_type": "code",
   "execution_count": 30,
   "metadata": {},
   "outputs": [
    {
     "data": {
      "text/plain": [
       "1"
      ]
     },
     "execution_count": 30,
     "metadata": {},
     "output_type": "execute_result"
    }
   ],
   "source": [
    "def solution(priorities, location):\n",
    "    lst = priorities[:]\n",
    "    lst[location]= float(priorities[location])\n",
    "    anw_lst = [ ]\n",
    "    while lst != []:\n",
    "        if lst[0] is max(lst):\n",
    "            anw_lst.append(lst[0])\n",
    "            lst.pop(0)\n",
    "        else :\n",
    "            pop_num = lst.pop(0)\n",
    "            lst.append(pop_num)\n",
    "    for i in range(len(anw_lst)):\n",
    "        if type(anw_lst[i]) == float:\n",
    "            answer = i+1 # index는 0부터 순서는 1부터 계산하기 때문\n",
    "            break\n",
    "    return answer\n",
    "solution([2, 1, 3, 2],2)"
   ]
  },
  {
   "cell_type": "code",
   "execution_count": 25,
   "metadata": {},
   "outputs": [
    {
     "data": {
      "text/plain": [
       "True"
      ]
     },
     "execution_count": 25,
     "metadata": {},
     "output_type": "execute_result"
    }
   ],
   "source": [
    "type(10) == int"
   ]
  }
 ],
 "metadata": {
  "kernelspec": {
   "display_name": "Python 3",
   "language": "python",
   "name": "python3"
  },
  "language_info": {
   "codemirror_mode": {
    "name": "ipython",
    "version": 3
   },
   "file_extension": ".py",
   "mimetype": "text/x-python",
   "name": "python",
   "nbconvert_exporter": "python",
   "pygments_lexer": "ipython3",
   "version": "3.8.3"
  }
 },
 "nbformat": 4,
 "nbformat_minor": 4
}
