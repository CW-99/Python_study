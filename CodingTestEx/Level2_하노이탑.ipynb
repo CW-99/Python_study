{
 "cells": [
  {
   "cell_type": "code",
   "execution_count": null,
   "metadata": {},
   "outputs": [],
   "source": [
    "def solution(n):\n",
    "    def solution2(n,f,m,t):\n",
    "        if n == 1:\n",
    "            return [[f,t]]\n",
    "        else:\n",
    "            answer = solution2(n-1,f,t,m) + [[f,t]] + solution2(n-1,m,f,t)\n",
    "        return answer\n",
    "    return solution2(n,1,2,3)"
   ]
  }
 ],
 "metadata": {
  "kernelspec": {
   "display_name": "Python 3",
   "language": "python",
   "name": "python3"
  },
  "language_info": {
   "codemirror_mode": {
    "name": "ipython",
    "version": 3
   },
   "file_extension": ".py",
   "mimetype": "text/x-python",
   "name": "python",
   "nbconvert_exporter": "python",
   "pygments_lexer": "ipython3",
   "version": "3.8.3"
  }
 },
 "nbformat": 4,
 "nbformat_minor": 4
}
