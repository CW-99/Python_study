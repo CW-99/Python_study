{
 "cells": [
  {
   "cell_type": "code",
   "execution_count": null,
   "metadata": {},
   "outputs": [],
   "source": [
    "def solution(n):\n",
    "    answer = 0\n",
    "    from math import comb\n",
    "\n",
    "    if n%2 == 0: # 짝수\n",
    "        x= 0 \n",
    "        while n >= 0:\n",
    "            answer += comb(x+n,n)\n",
    "            n -= 2\n",
    "            x += 1\n",
    "    else: # 홀수\n",
    "        x = 0\n",
    "        while n > 0 :\n",
    "            answer += comb(n+x,n)\n",
    "            n -= 2\n",
    "            x += 1\n",
    "    return answer"
   ]
  },
  {
   "cell_type": "code",
   "execution_count": null,
   "metadata": {},
   "outputs": [],
   "source": [
    "def solution(n):\n",
    "    from math import comb\n",
    "    answer, wid = 0, 0\n",
    "    if n%2 == 0:\n",
    "        for i in range(int(n/2)+1):\n",
    "            answer += comb(n-i,i)\n",
    "    else:\n",
    "        for i in range(int((n+1)/2)+1):\n",
    "            answer += comb(n-i,i)\n",
    "    return answer"
   ]
  },
  {
   "cell_type": "code",
   "execution_count": null,
   "metadata": {},
   "outputs": [],
   "source": [
    "def solution(n):\n",
    "    a1 = 1\n",
    "    a2 = 2\n",
    "    answer = 0\n",
    "    for i in range(n-2):\n",
    "        answer = a1+a2\n",
    "        a1 = a2\n",
    "        a2 = answer\n",
    "    return answer "
   ]
  }
 ],
 "metadata": {
  "kernelspec": {
   "display_name": "Python 3",
   "language": "python",
   "name": "python3"
  },
  "language_info": {
   "codemirror_mode": {
    "name": "ipython",
    "version": 3
   },
   "file_extension": ".py",
   "mimetype": "text/x-python",
   "name": "python",
   "nbconvert_exporter": "python",
   "pygments_lexer": "ipython3",
   "version": "3.8.3"
  }
 },
 "nbformat": 4,
 "nbformat_minor": 4
}
