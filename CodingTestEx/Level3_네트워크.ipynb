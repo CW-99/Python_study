{
 "cells": [
  {
   "cell_type": "code",
   "execution_count": 189,
   "metadata": {},
   "outputs": [],
   "source": [
    "def solution(n, computers):\n",
    "    lst, answer = [], 0 \n",
    "    for i in range(n):\n",
    "        a = {i}\n",
    "        for j in range(n):\n",
    "            if i != j and computers[i][j] == 1:\n",
    "                a.add(j)\n",
    "        if len(a) != 1:\n",
    "            lst.append(a) # 적어도 한 개 이상과 연결되어 있음\n",
    "        else:\n",
    "            answer += 1 # 아무것도 연결되어 있지 않음\n",
    "    while True :      \n",
    "        for i in range(len(lst)):\n",
    "            for k in range(len(lst)):\n",
    "                if i < k and len(lst[i]) != 0 and len(lst[k]) != 0:\n",
    "                    if len(lst[i].intersection(lst[k])) != 0:\n",
    "                        lst[i] = lst[i].union(lst[k])\n",
    "                        lst[k] = set()\n",
    "        newlst = [ ]\n",
    "        for i in lst:\n",
    "            if len(i) !=0:\n",
    "                newlst.append(i)\n",
    "        if newlst == lst or len(newlst) == 1:\n",
    "            lst = newlst\n",
    "            break\n",
    "        else:\n",
    "            lst = newlst\n",
    "            \n",
    "    answer += len(lst)\n",
    "    return answer"
   ]
  }
 ],
 "metadata": {
  "kernelspec": {
   "display_name": "Python 3",
   "language": "python",
   "name": "python3"
  },
  "language_info": {
   "codemirror_mode": {
    "name": "ipython",
    "version": 3
   },
   "file_extension": ".py",
   "mimetype": "text/x-python",
   "name": "python",
   "nbconvert_exporter": "python",
   "pygments_lexer": "ipython3",
   "version": "3.8.3"
  }
 },
 "nbformat": 4,
 "nbformat_minor": 4
}
