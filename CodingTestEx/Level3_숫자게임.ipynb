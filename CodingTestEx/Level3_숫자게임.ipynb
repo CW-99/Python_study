{
 "cells": [
  {
   "cell_type": "code",
   "execution_count": null,
   "metadata": {},
   "outputs": [],
   "source": [
    "def solution(A, B):\n",
    "    sortA = sorted(A)\n",
    "    sortB = sorted(B)\n",
    "    answer = 0\n",
    "    for numB in sortB:\n",
    "        for numA in sortA:\n",
    "            if numB > numA:\n",
    "                answer += 1\n",
    "                sortA.remove(numA)\n",
    "                break\n",
    "            else:\n",
    "                continue\n",
    "    return answer"
   ]
  }
 ],
 "metadata": {
  "kernelspec": {
   "display_name": "Python 3",
   "language": "python",
   "name": "python3"
  },
  "language_info": {
   "codemirror_mode": {
    "name": "ipython",
    "version": 3
   },
   "file_extension": ".py",
   "mimetype": "text/x-python",
   "name": "python",
   "nbconvert_exporter": "python",
   "pygments_lexer": "ipython3",
   "version": "3.8.3"
  }
 },
 "nbformat": 4,
 "nbformat_minor": 4
}
