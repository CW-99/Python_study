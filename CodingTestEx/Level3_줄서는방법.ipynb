{
 "cells": [
  {
   "cell_type": "code",
   "execution_count": null,
   "metadata": {},
   "outputs": [],
   "source": [
    "def solution(n, k): # 사람 수 # 번호 \n",
    "    lst, answer = [], []\n",
    "    k -= 1\n",
    "    n_lst = [k for k in range(1,n+1)]\n",
    "    from math import factorial\n",
    "    for i in sorted([k for k in range(1,n)], reverse=True):\n",
    "        num = 0\n",
    "        while k - factorial(i) >= 0:\n",
    "            k -= factorial(i)\n",
    "            num +=1\n",
    "        lst.append(num)\n",
    "    for k in lst:\n",
    "        answer.append(n_lst.pop(k))\n",
    "    answer.append(n_lst[0])\n",
    "    return answer"
   ]
  }
 ],
 "metadata": {
  "kernelspec": {
   "display_name": "Python 3",
   "language": "python",
   "name": "python3"
  },
  "language_info": {
   "codemirror_mode": {
    "name": "ipython",
    "version": 3
   },
   "file_extension": ".py",
   "mimetype": "text/x-python",
   "name": "python",
   "nbconvert_exporter": "python",
   "pygments_lexer": "ipython3",
   "version": "3.8.3"
  }
 },
 "nbformat": 4,
 "nbformat_minor": 4
}
