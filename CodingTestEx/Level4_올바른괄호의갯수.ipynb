{
 "cells": [
  {
   "cell_type": "code",
   "execution_count": 5,
   "metadata": {},
   "outputs": [],
   "source": [
    "def solution(n):\n",
    "    answer_lst = []\n",
    "    import itertools\n",
    "    for subset in itertools.product([-1,1], repeat = (2*n - 2)):\n",
    "        if sum(subset) == 0 :\n",
    "            answer_lst.append(subset)         \n",
    "    answer = len(answer_lst)\n",
    "    \n",
    "    for i in answer_lst:\n",
    "        num = 1\n",
    "        for k in i:\n",
    "            num = num + k \n",
    "            if num < 0 :\n",
    "                answer -= 1\n",
    "                break\n",
    "    return answer\n",
    "# 효율성 하나 실패"
   ]
  },
  {
   "cell_type": "code",
   "execution_count": 6,
   "metadata": {},
   "outputs": [
    {
     "data": {
      "text/plain": [
       "14"
      ]
     },
     "execution_count": 6,
     "metadata": {},
     "output_type": "execute_result"
    }
   ],
   "source": [
    "solution(4)"
   ]
  },
  {
   "cell_type": "code",
   "execution_count": 30,
   "metadata": {},
   "outputs": [],
   "source": [
    "def solution(n):\n",
    "    answer_lst = []\n",
    "    import itertools\n",
    "    for subset in itertools.product([-1,1], repeat = (2*n - 2)):\n",
    "        if subset.count(1) == n - 1 :\n",
    "            answer_lst.append(subset)         \n",
    "    answer = len(answer_lst) \n",
    "    for i in answer_lst:\n",
    "        num = 1\n",
    "        for k in i:\n",
    "            num = num + k \n",
    "            if num < 0 :\n",
    "                answer -= 1\n",
    "                break\n",
    "    return answer\n",
    "# count가 sum보다 조금 빠름"
   ]
  },
  {
   "cell_type": "code",
   "execution_count": null,
   "metadata": {},
   "outputs": [],
   "source": [
    "def solution(n):\n",
    "    answer_lst = []\n",
    "    import itertools\n",
    "    for subset in itertools.product([-1,1], repeat = (2*n - 2)):\n",
    "        if sum(subset) == 0 :\n",
    "            answer_lst.append(subset)         \n",
    "    answer = len(answer_lst) \n",
    "    for i in answer_lst:\n",
    "        for k in range(2, 2*n - 1, 2):\n",
    "            if (sum(i[0:k])+1) < 0:\n",
    "                answer -= 1\n",
    "                break\n",
    "    return answer\n",
    "# 효율성 2개 실패"
   ]
  },
  {
   "cell_type": "code",
   "execution_count": null,
   "metadata": {},
   "outputs": [],
   "source": [
    "def solution(n):\n",
    "    answer_lst = []\n",
    "    import itertools\n",
    "    for subset in itertools.product(['(',')'], repeat = (2*n - 2)):\n",
    "        if subset.count('(') == subset.count(')'):\n",
    "            answer_lst.append(subset)\n",
    "\n",
    "    answer_str_lst = []\n",
    "    answer = len(answer_lst)\n",
    "\n",
    "    for i in answer_lst:\n",
    "        answer_str_lst.append(''.join(i))\n",
    "    for i in answer_str_lst:\n",
    "        for k in range(2, 2*n - 1, 2):\n",
    "            if i.count('(',0,k) < i.count(')',0,k):\n",
    "                answer -= 1\n",
    "                break\n",
    "    return answer \n",
    "# 효율성 2개 실패 # A"
   ]
  },
  {
   "cell_type": "code",
   "execution_count": 28,
   "metadata": {},
   "outputs": [],
   "source": [
    "def solution(n):\n",
    "    answer_lst = []\n",
    "    import itertools\n",
    "    for subset in itertools.product(['(',')'], repeat = (2*n - 2)):\n",
    "        if subset.count('(') == subset.count(')'):\n",
    "            answer_lst.append(''.join(subset))\n",
    "    answer = len(answer_lst)\n",
    "    for i in  answer_lst:\n",
    "        for k in range(2, 2*n - 1, 2):\n",
    "            if i.count('(',0,k) < i.count(')',0,k):\n",
    "                answer -= 1\n",
    "                break\n",
    "    return answer \n",
    "# A 수정본/ 효율성 2개 실패"
   ]
  },
  {
   "cell_type": "code",
   "execution_count": 3,
   "metadata": {},
   "outputs": [
    {
     "data": {
      "text/plain": [
       "2674440"
      ]
     },
     "execution_count": 3,
     "metadata": {},
     "output_type": "execute_result"
    }
   ],
   "source": [
    "solution(14)"
   ]
  }
 ],
 "metadata": {
  "kernelspec": {
   "display_name": "Python 3",
   "language": "python",
   "name": "python3"
  },
  "language_info": {
   "codemirror_mode": {
    "name": "ipython",
    "version": 3
   },
   "file_extension": ".py",
   "mimetype": "text/x-python",
   "name": "python",
   "nbconvert_exporter": "python",
   "pygments_lexer": "ipython3",
   "version": "3.8.3"
  }
 },
 "nbformat": 4,
 "nbformat_minor": 4
}
