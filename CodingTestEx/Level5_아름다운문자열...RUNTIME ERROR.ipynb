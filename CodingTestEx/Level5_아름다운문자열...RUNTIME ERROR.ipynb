{
 "cells": [
  {
   "cell_type": "code",
   "execution_count": 19,
   "metadata": {},
   "outputs": [],
   "source": [
    "# 부분 문자열 구하기. 한글자 제외\n",
    "def solution(s):\n",
    "    n = len(s)\n",
    "    lst =[]\n",
    "    sum_lst = []\n",
    "    for k in range(n):\n",
    "        lst.append(k+1)\n",
    "    lst.pop()\n",
    "    for i in lst:\n",
    "        for k in range(i):\n",
    "            sum_lst.append(s[k:n+1-i+k])\n",
    "    print(sum_lst)"
   ]
  },
  {
   "cell_type": "code",
   "execution_count": 20,
   "metadata": {},
   "outputs": [
    {
     "name": "stdout",
     "output_type": "stream",
     "text": [
      "abcdef\n",
      "['abcdef', 'abcde', 'bcdef', 'abcd', 'bcde', 'cdef', 'abc', 'bcd', 'cde', 'def', 'ab', 'bc', 'cd', 'de', 'ef']\n"
     ]
    }
   ],
   "source": [
    "solution(\"abcdef\")"
   ]
  },
  {
   "cell_type": "code",
   "execution_count": 105,
   "metadata": {},
   "outputs": [],
   "source": [
    "# 원본\n",
    "def solution(s):\n",
    "    n = len(s)\n",
    "    num_lst, sum_lst =[],[]\n",
    "    answer = 0\n",
    "    for k in range(n):\n",
    "        num_lst.append(k+1)\n",
    "    num_lst.pop()\n",
    "    for i in num_lst:\n",
    "        for k in range(i):\n",
    "            sum_lst.append(s[k:n+1-i+k])\n",
    "    for i in sum_lst:\n",
    "        if i[0] != i[-1]:\n",
    "            answer += (len(i)-1) \n",
    "        else:\n",
    "            new_i = i.strip(i[0])\n",
    "            if len(new_i) != 0: \n",
    "                i_indexs = i.find(new_i[0])\n",
    "                i_indexf = i.rfind(new_i[-1])\n",
    "                answer += max(len(i)-i_indexs -1, i_indexf )\n",
    "    return answer"
   ]
  },
  {
   "cell_type": "code",
   "execution_count": 81,
   "metadata": {},
   "outputs": [],
   "source": [
    "# 수정본\n",
    "def solution(s):\n",
    "    n = len(s)\n",
    "    lst =[]\n",
    "    sum_lst = []\n",
    "    answer = 0\n",
    "    for k in range(n):\n",
    "        lst.append(k+1)\n",
    "    lst.pop()\n",
    "    for i in lst:\n",
    "        for k in range(i):\n",
    "            if len(s[k:n+1-i+k].strip(s[k:n+1-i+k][0])) != 0:\n",
    "                sum_lst.append(s[k:n+1-i+k])\n",
    "                \n",
    "    for i in sum_lst:\n",
    "        if i[0] != i[-1]:\n",
    "            answer += (len(i)-1) \n",
    "        else:\n",
    "            new_i = i.strip(i[0])\n",
    "            i_indexs = i.find(new_i[0])\n",
    "            i_indexf = i.rfind(new_i[-1])\n",
    "            answer += max(len(i)-i_indexs -1, i_indexf )\n",
    "    return answer"
   ]
  },
  {
   "cell_type": "code",
   "execution_count": 92,
   "metadata": {},
   "outputs": [],
   "source": [
    "# 수정본2\n",
    "def solution(s):\n",
    "    n = len(s)\n",
    "    lst =[]\n",
    "    sum_lst = []\n",
    "    answer = 0\n",
    "    for k in range(n):\n",
    "        lst.append(k+1)\n",
    "    lst.pop()\n",
    "    for i in lst:\n",
    "        for k in range(i):\n",
    "            num = (n+1-i+k)\n",
    "            if s[k:num][0] != s[k:num][-1]:\n",
    "                answer += (len(s[k:num])-1)\n",
    "            else :\n",
    "                new = s[k:num].strip(s[k:num][0])\n",
    "                if len(new) != 0:\n",
    "                    sum_lst.append(s[k:num])\n",
    "    if len(sum_lst) != 0:\n",
    "        for i in sum_lst:\n",
    "            new_i = i.strip(i[0])\n",
    "            i_indexs = i.find(new_i[0])\n",
    "            i_indexf = i.rfind(new_i[-1])\n",
    "            answer += max(len(i)-i_indexs -1, i_indexf )\n",
    "    return answer"
   ]
  },
  {
   "cell_type": "code",
   "execution_count": 99,
   "metadata": {},
   "outputs": [],
   "source": [
    "# 수정본3\n",
    "def solution(s):\n",
    "    n = len(s)\n",
    "    lst =[]\n",
    "    sum_lst = []\n",
    "    answer = 0\n",
    "    for k in range(n):\n",
    "        lst.append(k+1)\n",
    "    lst.pop()\n",
    "    for i in lst:\n",
    "        for k in range(i):\n",
    "            num = (n+1-i+k)\n",
    "            if s[k:num][0] != s[k:num][-1]:\n",
    "                answer += (len(s[k:num])-1)\n",
    "            else :\n",
    "                new = s[k:num].strip(s[k:num][0])\n",
    "                if len(new) != 0:\n",
    "                    new_i = s[k:num].strip(s[k:num][0])\n",
    "                    i_indexs = s[k:num].find(new_i[0])\n",
    "                    i_indexf = s[k:num].rfind(new_i[-1])\n",
    "                    answer += max(len(s[k:num])- i_indexs -1, i_indexf )\n",
    "    return answer"
   ]
  },
  {
   "cell_type": "code",
   "execution_count": 103,
   "metadata": {},
   "outputs": [],
   "source": [
    "def solution(s):\n",
    "    n = len(s)\n",
    "    lst =[]\n",
    "    answer = 0\n",
    "    for k in range(n):\n",
    "        lst.append(k+1)\n",
    "    lst.pop()\n",
    "    for i in lst:\n",
    "        for k in range(i):\n",
    "            num = (n+1-i+k)\n",
    "            if s[k:num][0] != s[k:num][-1]:\n",
    "                answer += (len(s[k:num])-1)\n",
    "            else :\n",
    "                new_i = s[k:num].strip(s[k:num][0])\n",
    "                if len(new_i) != 0:\n",
    "                    new_i = s[k:num].strip(s[k:num][0])\n",
    "                    i_indexs = s[k:num].find(new_i[0])\n",
    "                    i_indexf = s[k:num].rfind(new_i[-1])\n",
    "                    answer += max(len(s[k:num])- i_indexs -1, i_indexf )\n",
    "    return answer"
   ]
  }
 ],
 "metadata": {
  "kernelspec": {
   "display_name": "Python 3",
   "language": "python",
   "name": "python3"
  },
  "language_info": {
   "codemirror_mode": {
    "name": "ipython",
    "version": 3
   },
   "file_extension": ".py",
   "mimetype": "text/x-python",
   "name": "python",
   "nbconvert_exporter": "python",
   "pygments_lexer": "ipython3",
   "version": "3.8.3"
  }
 },
 "nbformat": 4,
 "nbformat_minor": 4
}
