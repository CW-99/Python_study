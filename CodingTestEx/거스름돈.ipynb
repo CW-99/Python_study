{
 "cells": [
  {
   "cell_type": "code",
   "execution_count": 21,
   "metadata": {},
   "outputs": [],
   "source": [
    "def solution(n, money):\n",
    "    x = 1 \n",
    "    answer = 0 \n",
    "    import itertools as it\n",
    "    while x <= n :\n",
    "        for subset in it.combinations_with_replacement(money, x):\n",
    "            if sum(subset) == n:\n",
    "                answer +=1\n",
    "        x += 1 \n",
    "    return answer\n",
    "# 짜면서도 효율성 테스트 통과하는거 기대도 안했다 ^~^ "
   ]
  },
  {
   "cell_type": "code",
   "execution_count": null,
   "metadata": {},
   "outputs": [],
   "source": [
    "1) 자연수의 분할? 힘들어보인다.\n",
    "2) 한 종류만 사용해서 > 2종류 > 3종류 ...\n",
    "3) 최소한 한번씩은 사용했다 + 0도 있다. 로 경우의 수를 분리\n",
    "4) 한번"
   ]
  }
 ],
 "metadata": {
  "kernelspec": {
   "display_name": "Python 3",
   "language": "python",
   "name": "python3"
  },
  "language_info": {
   "codemirror_mode": {
    "name": "ipython",
    "version": 3
   },
   "file_extension": ".py",
   "mimetype": "text/x-python",
   "name": "python",
   "nbconvert_exporter": "python",
   "pygments_lexer": "ipython3",
   "version": "3.8.3"
  }
 },
 "nbformat": 4,
 "nbformat_minor": 4
}
