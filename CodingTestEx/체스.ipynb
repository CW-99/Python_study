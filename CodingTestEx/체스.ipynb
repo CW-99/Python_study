{
 "cells": [
  {
   "cell_type": "code",
   "execution_count": 1,
   "metadata": {},
   "outputs": [],
   "source": [
    "def solution(n):\n",
    "    y = []\n",
    "    answer = 0\n",
    "    import itertools\n",
    "    for subset in itertools.permutations(range(n), n):\n",
    "        y.append(subset) # 이거 자체가 너무 오래걸린다고 합니당.\n",
    "\n",
    "    import numpy as np\n",
    "    y = np.array(y)\n",
    "    m = (range(n)) - y # x - y\n",
    "    p = y + (range(n)) # x + y\n",
    "    \n",
    "    for i in range(len(y)):\n",
    "        if len(set(m[i])) == len(set(p[i])) == n :\n",
    "            answer += 1\n",
    "    return answer\n",
    "# 지금 베스트 "
   ]
  },
  {
   "cell_type": "code",
   "execution_count": 6,
   "metadata": {},
   "outputs": [
    {
     "data": {
      "text/plain": [
       "4"
      ]
     },
     "execution_count": 6,
     "metadata": {},
     "output_type": "execute_result"
    }
   ],
   "source": [
    "solution(6\n",
    "        )"
   ]
  },
  {
   "cell_type": "code",
   "execution_count": null,
   "metadata": {},
   "outputs": [],
   "source": []
  }
 ],
 "metadata": {
  "kernelspec": {
   "display_name": "Python 3",
   "language": "python",
   "name": "python3"
  },
  "language_info": {
   "codemirror_mode": {
    "name": "ipython",
    "version": 3
   },
   "file_extension": ".py",
   "mimetype": "text/x-python",
   "name": "python",
   "nbconvert_exporter": "python",
   "pygments_lexer": "ipython3",
   "version": "3.8.3"
  }
 },
 "nbformat": 4,
 "nbformat_minor": 4
}
