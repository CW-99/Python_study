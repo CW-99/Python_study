{
 "cells": [
  {
   "cell_type": "code",
   "execution_count": null,
   "metadata": {},
   "outputs": [],
   "source": [
    "data_cleansing"
   ]
  },
  {
   "cell_type": "code",
   "execution_count": null,
   "metadata": {},
   "outputs": [],
   "source": [
    "1) 데이터가 많이 없다 > 최소 개수를 정해서 Drop"
   ]
  },
  {
   "cell_type": "code",
   "execution_count": null,
   "metadata": {},
   "outputs": [],
   "source": [
    "df.isnull().sum() > 얼마나 비어있는지 체크할 수 있음.\n",
    "# 이때 얼마나 비워져있는지 비율이 중요하기에 전체 길이로 나눠서보자.\n",
    "df.insull().sum()/len(df)\n",
    "df_copy = df.dropna() > 빈값이 있으면 drop (row 기준)\n",
    "df_copy = df.dropna(how = 'all') > row가 전부 비워져있으면 drop\n",
    "df_copy = df.dropna(axis = 1, thresh = n ) > 데이터가 n 개 초과로 없을 때 drop"
   ]
  },
  {
   "cell_type": "code",
   "execution_count": null,
   "metadata": {},
   "outputs": [],
   "source": [
    "df.drop(['column1','columns2', 'columns3'], axis =1, inplace = True)"
   ]
  },
  {
   "cell_type": "code",
   "execution_count": null,
   "metadata": {},
   "outputs": [],
   "source": [
    "# 채워넣기\n",
    "df.fillna(n)\n",
    "# 평균값 # 중위값 # 최빈값 등...\n",
    "df[\"columns\"].mean() > df[\"columns\"].fillna(df[\"columns\"].mean())\n",
    "# 한번에 채워넣기\n",
    "df.fillna(df.mean(axis = 0)) > 당연하지만 숫자만 처리 가능\n",
    "df[\"columns\"].median()\n",
    "df[\"columns\"].mode()"
   ]
  },
  {
   "cell_type": "code",
   "execution_count": null,
   "metadata": {},
   "outputs": [],
   "source": [
    "# 동시에 변경 불가\n",
    "df.loc[df['one_column'].isnull(),['one_column']] = df[\"columns\"].mean()"
   ]
  },
  {
   "cell_type": "code",
   "execution_count": null,
   "metadata": {},
   "outputs": [],
   "source": [
    "# 그룹별로 데이터 넣기\n",
    "df_mean1 = df.groupby('column_기준')['적용받는 컬럼'].transform('mean')\n",
    "df[\"적용받는컬럼\"].fillna(df_mean1)\n",
    "# 조건만족 df 표시\n",
    "df[df['column1'].notnull() & df['columns2'].notnull()]"
   ]
  },
  {
   "cell_type": "code",
   "execution_count": null,
   "metadata": {},
   "outputs": [],
   "source": [
    "df.groupby([\"Column_기준\",\"Column_기준2\"])[\"Columns_적용\"].sum() 적용받는 연산"
   ]
  },
  {
   "cell_type": "code",
   "execution_count": null,
   "metadata": {},
   "outputs": [],
   "source": [
    "# 카테고리 데이터 처리 one hot encoding\n",
    "pd.get_dummies(df)\n",
    "pd.get_dummies(df[\"column\"])\n",
    "pd.get_dummies(df[['column']])"
   ]
  },
  {
   "cell_type": "code",
   "execution_count": null,
   "metadata": {},
   "outputs": [],
   "source": [
    "# 다른 카테고리\n",
    "df.loc[df[\"columns\"] == '특정값', '적용 컬럼'] = 0 # 조건대신에 Boolean값 가능\n",
    "df[column].replace({})\n",
    "df[column].replace['교체전']['교체후']\n",
    "df[column].map({})"
   ]
  },
  {
   "cell_type": "code",
   "execution_count": null,
   "metadata": {},
   "outputs": [],
   "source": [
    "# 데이터 구간 나누기 ( 너무 넓게 퍼져있을 때 )\n",
    "1) 구간 list를 만들어줌\n",
    "lst = [0, 25, 50, 75, 100] > 4개의 구간\n",
    "group_names = [ ] > 구간별 이름\n",
    "df.cut(df['column'], lst, label = group_names)"
   ]
  },
  {
   "cell_type": "code",
   "execution_count": null,
   "metadata": {},
   "outputs": [],
   "source": [
    "# feature scaling\n",
    "지속적인 업데이트 필요\n",
    "1) min - max \n",
    "from sklearn.preprocessing import MinMaxScaler\n",
    "scaler = MinMaxScaler()\n",
    "scaler.fit(df[])\n",
    "2) standardization\n",
    "from sklearn.preprocessing import StandardScaler\n",
    "scaler = StandardScaler()\n",
    "scaler.fit()\n",
    "등등 "
   ]
  },
  {
   "cell_type": "code",
   "execution_count": null,
   "metadata": {},
   "outputs": [],
   "source": [
    "data.loc[조건,['적용컬럼']] > 조건을 만족하는 columns\n",
    "data[조건]을 만족하는 rows"
   ]
  },
  {
   "cell_type": "code",
   "execution_count": null,
   "metadata": {},
   "outputs": [],
   "source": [
    "recent_grads.describe(exclude = ['object']) > object 타입을 제외"
   ]
  },
  {
   "cell_type": "code",
   "execution_count": null,
   "metadata": {},
   "outputs": [],
   "source": [
    "# 중복제거\n",
    "모든 변수를 비교하기 보단 원하는 변수를 선택해 몇 개를 비교\n",
    "df.drop_duplicates(subset = ['columns','columns'], inplace = True)"
   ]
  },
  {
   "cell_type": "code",
   "execution_count": null,
   "metadata": {},
   "outputs": [],
   "source": [
    "# 색인 초기화\n",
    "df.reset_index()\n",
    "원본 색인이 필요하지 않으면 drop = True"
   ]
  }
 ],
 "metadata": {
  "kernelspec": {
   "display_name": "Python 3",
   "language": "python",
   "name": "python3"
  },
  "language_info": {
   "codemirror_mode": {
    "name": "ipython",
    "version": 3
   },
   "file_extension": ".py",
   "mimetype": "text/x-python",
   "name": "python",
   "nbconvert_exporter": "python",
   "pygments_lexer": "ipython3",
   "version": "3.8.3"
  }
 },
 "nbformat": 4,
 "nbformat_minor": 4
}
