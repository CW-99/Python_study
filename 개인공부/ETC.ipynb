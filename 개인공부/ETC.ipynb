{
 "cells": [
  {
   "cell_type": "code",
   "execution_count": 31,
   "metadata": {},
   "outputs": [
    {
     "name": "stdout",
     "output_type": "stream",
     "text": [
      "HTTP/1.1 200 OK\r\n",
      "Date: Mon, 30 Nov 2020 08:21:39 GMT\r\n",
      "Server: Apache/2.4.18 (Ubuntu)\r\n",
      "Last-Modified: Sat, 13 May 2017 11:22:22 GMT\r\n",
      "ETag: \"a7-54f6609245537\"\r\n",
      "Accept-Ranges: bytes\r\n",
      "Content-Length: 167\r\n",
      "Cache-Control: max-age=0, no-cache, no-store, must-revalidate\r\n",
      "Pragma: no-cache\r\n",
      "Expires: Wed, 11 Jan 1984 05:00:00 GMT\r\n",
      "Connection: close\r\n",
      "Content-Type: text/plain\r\n",
      "\r\n",
      "But soft what light through yonder window breaks\n",
      "It is the east and Juliet is the sun\n",
      "Arise fair sun and kill the envious moon\n",
      "Who is already sick and pale with grief\n"
     ]
    }
   ],
   "source": [
    "import socket\n",
    "\n",
    "mysock = socket.socket(socket.AF_INET, socket.SOCK_STREAM)\n",
    "mysock.connect(('data.pr4e.org', 80))\n",
    "cmd = \"GET http://data.pr4e.org/romeo.txt HTTP/1.0\\r\\n\\r\\n\".encode()\n",
    "mysock.send(cmd)\n",
    "\n",
    "while True:\n",
    "    data = mysock.recv(512)\n",
    "    if len(data) < 1 :\n",
    "        break\n",
    "    print(data.decode(),end='')\n",
    "mysock.close()"
   ]
  },
  {
   "cell_type": "code",
   "execution_count": 3,
   "metadata": {},
   "outputs": [
    {
     "name": "stdout",
     "output_type": "stream",
     "text": [
      "b'{\"Results\":{\"output1\":[{\"Scored Labels\":\"12180.2509765625\"}]}}'\n"
     ]
    }
   ],
   "source": [
    "import urllib.request\n",
    "import json\n",
    "\n",
    "data = {\n",
    "        \"Inputs\": {\n",
    "                \"input1\":\n",
    "                [\n",
    "                    {\n",
    "                            '지점': \"11\",   \n",
    "                            '날짜': \"2020-03-01\",   \n",
    "                            '온도': \"10\",   \n",
    "                            '연료비': \"4\",   \n",
    "                            '소비자물가지수': \"20\",   \n",
    "                            '실업률': \"1\",   \n",
    "                            '부서': \"2\",   \n",
    "                            '휴일여부': \"false\",   \n",
    "                            '유형': \"A\",   \n",
    "                            '규모': \"30000\",   \n",
    "                    }\n",
    "                ],\n",
    "        },\n",
    "    \"GlobalParameters\":  {\n",
    "    }\n",
    "}\n",
    "\n",
    "body = str.encode(json.dumps(data))\n",
    "\n",
    "url = 'https://ussouthcentral.services.azureml.net/workspaces/47b488e2d1bc4ce0895dedbc119a25bd/services/6269d8dd036a4e438b3718cc8b11cb15/execute?api-version=2.0&format=swagger'\n",
    "api_key = 'L4rqEJfbPovkKmN2qInHfmbYZRLUb+frHlFAN82RdTjR8BhxjQltZIYsCOhFvhyK0SjEUqyHym3Y+y619SUfog=='\n",
    "headers = {'Content-Type':'application/json', 'Authorization':('Bearer '+ api_key)}\n",
    "\n",
    "req = urllib.request.Request(url, body, headers)\n",
    "\n",
    "try:\n",
    "    response = urllib.request.urlopen(req)\n",
    "\n",
    "    result = response.read()\n",
    "    print(result)\n",
    "except urllib.error.HTTPError as error:\n",
    "    print(\"The request failed with status code: \" + str(error.code))\n",
    "\n",
    "    # Print the headers - they include the requert ID and the timestamp, which are useful for debugging the failure\n",
    "    print(error.info())\n",
    "    print(json.loads(error.read().decode(\"utf8\", 'ignore')))"
   ]
  },
  {
   "cell_type": "code",
   "execution_count": 4,
   "metadata": {},
   "outputs": [
    {
     "name": "stdout",
     "output_type": "stream",
     "text": [
      "I ate 10 apples.\n"
     ]
    }
   ],
   "source": [
    "(a,b)=(\"I\",\"10\")\n",
    "print(f\"{a} ate {b} apples.\") # 추가"
   ]
  },
  {
   "cell_type": "code",
   "execution_count": 7,
   "metadata": {},
   "outputs": [
    {
     "name": "stdout",
     "output_type": "stream",
     "text": [
      "[1, 2, 3, 4]\n",
      "<class 'int'>\n"
     ]
    }
   ],
   "source": [
    "print(eval(\"[1,2,3,4]\"))\n",
    "# 입력으로 튜플과 리스트를 받을 수 있음 / 숫자로도 바꿈\n",
    "print(type((eval(\"3\"))))"
   ]
  },
  {
   "cell_type": "code",
   "execution_count": null,
   "metadata": {},
   "outputs": [],
   "source": [
    "스크립트 실행 시 입력 argv # 두 종류의 입력을 함꼐 쓰는 것\n",
    "스크립트 실행 중 입력 input\n"
   ]
  },
  {
   "cell_type": "code",
   "execution_count": 8,
   "metadata": {},
   "outputs": [],
   "source": [
    "from sys import argv"
   ]
  },
  {
   "cell_type": "code",
   "execution_count": null,
   "metadata": {},
   "outputs": [],
   "source": [
    "유니코드 처리시 encoding 옵션을 꼭 해줘야함  다양한 인코딩옵션들이 있음\n",
    "우리가 오픈 함수를 통해 파일 객체를 얻었고 \n",
    "파일을 열고 무조건 닫아줘야함\n",
    "닫지 않으면 버퍼링 된 데이터 소실\n",
    "파일을 다룰 떄 \n",
    "read(rmfwktn)글자 수 만큼 읽고 파일 포인터를 끝으로 이동/ 파일의 끝까지 읽은 후 빈 문자를 반환\n",
    "seek() 포인터를 특정 위치로 이동 / 맨 앞은 0\n",
    "readline() 한 줄씩\n",
    "readlines() 한 줄씩 읽고 list로 반환\n",
    "rt라는 모델\n",
    "한국어로 됬으면 'uft-8' 해야함 유니코드라서 \n",
    "실행인자와 입력함수를 ㅗㅈ합할 수 있음\n",
    "스크립스 실행 시 매개변수를 넣을껀데\n",
    "실행과 동시에 변수 저장\n",
    "파이썬 .\\파일읾.py 매개변수(sample .txt)\n",
    "\n",
    "쓰기 모드 wt at 쓰게 텍스트 모드와 추가 텍스트 모드\n",
    "write(\"내용\") ?> write(\"내용\\n\")\n",
    "writelines(['내용1','내용2'])\n",
    "리스트 각 원소의 문자열 끝에 반드시 \\n 사용해야함 ㅋ\n",
    "try와 finally 구ㅜㄴ\n",
    "예외가 발생해도 파이널리라고 하는 절을 통해서 반드시 파일을 클로즈할 수 있음\n",
    "트라이다음에 무조건 파이널리 구문이 사용됨\n",
    "\n",
    "try :\n",
    "    f = d오픈\n",
    "    쓰기\n",
    "    쓰기\n",
    "finally:\n",
    "    쓰기\n",
    "    닫기\n",
    "\n",
    "    \n",
    "첫번째 응용 - 파일 복사"
   ]
  },
  {
   "cell_type": "code",
   "execution_count": 35,
   "metadata": {},
   "outputs": [
    {
     "data": {
      "image/png": "[encoded data removed]",
      "text/plain": [
       "<Figure size 432x288 with 1 Axes>"
      ]
     },
     "metadata": {
      "needs_background": "light"
     },
     "output_type": "display_data"
    }
   ],
   "source": [
    "%matplotlib inline\n",
    "from matplotlib import pyplot as plt\n",
    "\n",
    "X_axis = ['1st','2nd', '3rd', '4th', '5th', '6th']\n",
    "Y_axis = [10, 20, 40, 80, 160, 320]\n",
    "\n",
    "xs = [i for i, _ in enumerate(Y_axis)]\n",
    "\n",
    "plt.bar(xs,Y_axis)\n",
    "\n",
    "plt.title(\"Bar Chart (Histogram)\")\n",
    "plt.xlabel('X axis')\n",
    "plt.ylabel('Y axis')\n",
    "\n",
    "plt.show()"
   ]
  },
  {
   "cell_type": "code",
   "execution_count": 41,
   "metadata": {},
   "outputs": [
    {
     "data": {
      "image/png": "[encoded data removed]",
      "text/plain": [
       "<Figure size 432x288 with 1 Axes>"
      ]
     },
     "metadata": {
      "needs_background": "light"
     },
     "output_type": "display_data"
    }
   ],
   "source": [
    "%matplotlib inline\n",
    "from matplotlib import pyplot as plt\n",
    "\n",
    "X_axis = ['1st','2nd', '3rd', '4th', '5th', '6th']\n",
    "Y_axis = [10, 20, 40, 80, 160, 320]\n",
    "\n",
    "xs = [i for i, _ in enumerate(Y_axis)]\n",
    "\n",
    "plt.xticks([1,2,3,4,5],[11,11,11,11,11,11])\n",
    "\n",
    "plt.bar(xs,Y_axis)\n",
    "\n",
    "plt.title(\"Bar Chart (Histogram)\")\n",
    "plt.xlabel('X axis')\n",
    "plt.ylabel('Y axis')\n",
    "\n",
    "plt.show()"
   ]
  }
 ],
 "metadata": {
  "kernelspec": {
   "display_name": "Python 3",
   "language": "python",
   "name": "python3"
  },
  "language_info": {
   "codemirror_mode": {
    "name": "ipython",
    "version": 3
   },
   "file_extension": ".py",
   "mimetype": "text/x-python",
   "name": "python",
   "nbconvert_exporter": "python",
   "pygments_lexer": "ipython3",
   "version": "3.8.3"
  }
 },
 "nbformat": 4,
 "nbformat_minor": 4
}
