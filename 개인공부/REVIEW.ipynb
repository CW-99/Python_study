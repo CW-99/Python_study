{
 "cells": [
  {
   "cell_type": "markdown",
   "metadata": {},
   "source": [
    "Python standard library <br>\n",
    "https://docs.python.org/3/library/index.html <br>\n",
    "W3school-python reference <br>\n",
    "https://www.w3schools.com/python/python_reference.asp <br>\n",
    "Built-in Functions <br>\n",
    "https://docs.python.org/3/library/functions.html#built-in-funcs <br>\n",
    "Built-in Types <br> \n",
    "https://docs.python.org/3/library/stdtypes.html <br>\n",
    "Operation precedence <br>\n",
    "https://docs.python.org/3/reference/expressions.html#operator-summary <br>\n",
    "Math Module <br>\n",
    "https://docs.python.org/3/library/math.html <br>\n",
    "Random Module <br>\n",
    "https://docs.python.org/3/library/random.html?highlight=random#module-random <br>\n",
    "str.method <br>\n",
    "https://docs.python.org/3/library/stdtypes.html#text-sequence-type-str <br>\n",
    "list.method <br>\n",
    "https://docs.python.org/3/tutorial/datastructures.html  <br>\n",
    "Csv Module <br>\n",
    "https://docs.python.org/3/library/csv.html"
   ]
  },
  {
   "cell_type": "markdown",
   "metadata": {},
   "source": [
    "Step_2_review <br>\n",
    "양수를 음수로 나눈 값의 몫과 나머지는 모두 음수값을 가진다 파이썬 특인듯 <br>\n",
    "정수와 정수의 계산에서는 정수가 나오지만 나눗셈은 항상 실수가 나온다"
   ]
  },
  {
   "cell_type": "markdown",
   "metadata": {},
   "source": [
    "Step_3_review <br>\n",
    "어떤 정보값을 함수나 문자가 저장을 할 떄 단순하게 그 값을 저장하는 것이 아니다. <br>\n",
    "파이썬은 객체지향언어로 만약 x = 1 을 저장할 때 단순하게 x 에 1값을 저장하는 것이 아니라 (물론 주소를 저장하는 것) <br>\n",
    "다양한 정보들을 함께 저장한다 이에 대한 설명으로 강의 3 마지막 부분을 참고하자 <br>\n",
    "<br>\n",
    "\n",
    "한 줄에 한개의 명령문만 ex print(a) print(b) - 안됨 <br>\n",
    "주요 예약어 <br>\n",
    "and, del, from, not, while, as, elif, global, or, with, assert, else, if, <br>\n",
    "break, except, import, print, class, exec, in, raise, continue, finally, <br>\n",
    "pass, yield, def, for, lambda, try, is, return <br>"
   ]
  },
  {
   "cell_type": "code",
   "execution_count": 3,
   "metadata": {
    "scrolled": true
   },
   "outputs": [
    {
     "name": "stdout",
     "output_type": "stream",
     "text": [
      "(2, 2)\n",
      "<class 'int'>\n",
      "<class 'tuple'>\n",
      "10.24\n",
      "2345  <class 'str'>\n",
      "\n",
      "\n",
      "['a', 'b', 'c', 'd', 'e', 'f', 'g', 'h']\n",
      "['h', 'g', 'f', 'e', 'd', 'c', 'b', 'a']\n",
      "['1234', '12345', '23']\n",
      "[1, 2, 3, 5, 6, 7, 8, 9, 10]\n",
      "['0', '1', '2', '3', '4', '5', '6', '7', '8', '9']\n",
      "['a', 'b', 'c', 'd', 'e']\n",
      "[1, 3, 10]\n"
     ]
    }
   ],
   "source": [
    "# Built-in Functions\n",
    "\n",
    "# divmod(a, b) //the pair (x // y, x % y)  > tuple\n",
    "print(divmod(10, 4)) \n",
    "print(type(divmod(10,4)[1]))  # 나누기는 보통 실수 값이 나오지만 이건 좀 예외인 듯?\n",
    "print(type(divmod(10, 4)))\n",
    "#round(a, b) // 소수점 b+1 자리에서 반올림\n",
    "print(round(10.23934,2))  # 3자리가 9라서 반올림\n",
    "\n",
    "# repr() : change to string\n",
    "print(repr(2345), type(repr(2345)), sep=\"  \")\n",
    "\n",
    "print()\n",
    "print()  # 문자는 문자와만/ 숫자는 숫자와만 가능하다. \n",
    "# dict는 key값만 list로  # 결과 값은 항상 list이다 tuple/ set/ str/ dic > list \n",
    "# sorted(iterable, key=key, reverse=reverse) // False will sort ascending, True will sort descending. Default is False\n",
    "# 결과값이 바뀌지 않음\n",
    "print(sorted((\"b\", \"g\", \"a\", \"d\", \"f\", \"c\", \"h\", \"e\")))  \n",
    "print(sorted((\"b\", \"g\", \"a\", \"d\", \"f\", \"c\", \"h\", \"e\"), reverse = True)) #tuple\n",
    "print(sorted(['23', '1234','12345'])) #list\n",
    "print(sorted({1,2,3,10,5,7,6,9,8}))  # set\n",
    "print(sorted('9876543210'))  #str\n",
    "print(sorted(\"dbaec\")) #str \n",
    "print(sorted({1:'a',10:'b',3:'c'})) #list > key "
   ]
  },
  {
   "cell_type": "code",
   "execution_count": 4,
   "metadata": {},
   "outputs": [
    {
     "name": "stdout",
     "output_type": "stream",
     "text": [
      "<enumerate object at 0x00000249D07D1340>\n",
      "[(0, 'Spring'), (1, 'Summer'), (2, 'Fall'), (3, 'Winter'), (4, 1)]\n",
      "[(1, 'Spring'), (2, 'Summer'), (3, 'Fall'), (4, 'Winter'), (5, 1)]\n",
      "((0, 'Spring'), (1, 'Summer'), (2, 'Fall'), (3, 'Winter'), (4, 1))\n",
      "((0, 'Spring'), (1, 'Summer'), (2, 'Fall'), (3, 'Winter'), (4, 1))\n",
      "{(1, 'Summer'), (0, 'Spring'), (2, 'Fall'), (4, 1), (3, 'Winter')}\n",
      "[(0, 'a'), (1, 'b'), (2, '1'), (3, 'd'), (4, 'e')]\n"
     ]
    }
   ],
   "source": [
    "# enumerate () // (enumerate(list or strings or tuple or set)) > numbering// plz make  list or tuple or set\n",
    "seasons = ['Spring', 'Summer', 'Fall', 'Winter',1] \n",
    "print(enumerate(seasons)) # set, list, tuple 의 형태로 변환이 필요함.\n",
    "print(list(enumerate(seasons)))  # [(0, 'Spring'), (1, 'Summer'), (2, 'Fall'), (3, 'Winter')]\n",
    "print(list(enumerate(seasons, start=1))) # [(1, 'Spring'), (2, 'Summer'), (3, 'Fall'), (4, 'Winter')] \n",
    "print(tuple(enumerate(seasons))) # tuple\n",
    "print(tuple(enumerate(seasons)))\n",
    "print(set(enumerate(seasons)))    # set\n",
    "print(list(enumerate(\"ab1de\")))  # list"
   ]
  },
  {
   "cell_type": "markdown",
   "metadata": {},
   "source": [
    "Step_4_review <br>\n",
    "함수 자체의 return 값 없이 print이면 print(print())되어 값은 None이 나온다 <br>\n",
    "출력값이 없다 => return 값이 없다 <br>\n",
    "print에서 , 과 + 는 같다. <br> \n",
    "ex) print(\"asdf\" + \"asdfg\", \"asd\" ) "
   ]
  },
  {
   "cell_type": "markdown",
   "metadata": {},
   "source": [
    "Step_5_review <br>\n",
    "\n",
    "\n",
    "\n",
    "| Escape Sequence | Description |\n",
    "| :-: | :-: |\n",
    "| \\' | Single quote |\n",
    "| \\\" | Double quote |\n",
    "| \\\\ | Backslash |\n",
    "| \\t | Tab |\n",
    "| \\n | Newline |\n",
    "| \\r | Carriage return | \n",
    "\n",
    "\n",
    "\n",
    "\n",
    "\n",
    "\\r : 맨 앞줄로 덮어쓰기 <br>\n",
    "print(value, ..., sep=' ', end='\\n', file=sys.stdout, flush=False)<br>"
   ]
  },
  {
   "cell_type": "markdown",
   "metadata": {},
   "source": [
    "Step_6_review <br>\n",
    "Boolean에서 and, or, not, and not, or not 다 가능 <br>\n",
    "비교 연산 이들 모두는 같은 우선순위를 가진다. < > == != <br>\n",
    "논리 연산자 ( not and or ... ) 은 비논리 연산자 (비교 연산자) 보다 낮은 우선순위를 가진다 (아래참조) <br>\n",
    "not a == b 는 not (a == b) 로 해석  not a > b 는 not (a > b) 로 해석 <br>\n",
    "비교 연산자 - not - and -  or 의 순서대로의 우선순위를 가진다.  <br>"
   ]
  },
  {
   "cell_type": "code",
   "execution_count": null,
   "metadata": {},
   "outputs": [],
   "source": [
    "#계산 방식 - 동시 계산\n",
    "#ex)  3 < 5 != True\n",
    "# 3 < 5 는 True \n",
    "# 5 != True 는 True\n",
    "# 즉 \"5는 3보다 크고, 5는 1이 아니다\"이므로 맞는말, 즉 True ==== 여러개 동시 비교 = and\n",
    "# 3 == 4 != 1 은 3 == 4 는 F 4 != 1 은 F / 고로 F and T 로 F"
   ]
  },
  {
   "cell_type": "markdown",
   "metadata": {},
   "source": [
    "연산자의 우선 순위 <br>\n",
    "'()' <br>\n",
    "' ** ' <br>\n",
    "' * / // % ' <br>\n",
    "' + - == ' <br>\n",
    "' != > < >= <= is (is not) (in) (not in) ' <br>\n",
    "not <br>\n",
    "and <br>\n",
    "or"
   ]
  },
  {
   "cell_type": "markdown",
   "metadata": {},
   "source": [
    "Step_7_review <br>\n",
    "반복문을 만들 때 컴퓨터의 효율성을 생각하자."
   ]
  },
  {
   "cell_type": "markdown",
   "metadata": {},
   "source": [
    "Step_8_reivew <br>\n",
    "모듈은 프로그래머들이 직접 유용한 함수 등을 작성하여, 다른 사람 혹은 본인의 프로그램 개발시 활용하고자 하는 일종의 별도 \"화일\" 입니다.<br>\n",
    "Module의 import<br>\n",
    "모듈안에 포함된 함수를 호출(실행)하는 경우는 규칙이 있는데, 즉 함수의 이름을 math.factorial(3)과 같이 모듈명.함수명()으로 해야 합니다. <br>\n",
    "from _모듈이름_ import _함수이름_과 같이, 사용하기 원하는 함수만 해당 모듈에서 불러올 수 있는데 이때는 그냥 변수만 받아온다. <br>\n",
    "ex) from math import factorial ---  print(factorial(3)) <br>\n",
    "\n",
    "모듈 만들기 <br>\n",
    "(a) 사용하고자 하는 모듈 이름으로 화일을 만들고 확장자를 .py로 합니다. <br>\n",
    "(b) 모듈안에 넣고자 하는 함수를 (a)에서 만든 화일에 포함 합니다. <br>\n",
    "(c) 앞서 math 모듈 및 math 모듈에 포함된 함수를 사용하는 방법을 동일하게 사용하여 사용자 정의 모듈 안의 함수를 사용합니다. <br>"
   ]
  },
  {
   "cell_type": "markdown",
   "metadata": {},
   "source": [
    "1) 보다 큰 정수 <br>\n",
    "2) 보다 작은 정수 중 가장 큰 정수 <br>\n",
    "3) nCk <br>\n",
    "4) nPk <br>\n",
    "5) 팩토리얼 <br>\n",
    "6) 소수값의 합 <br>\n",
    "7) 최대공약수(하나가 0이면 나머지값) (최소공배수) <br>\n",
    "8) 루트관련 <br>"
   ]
  },
  {
   "cell_type": "code",
   "execution_count": 2,
   "metadata": {},
   "outputs": [
    {
     "name": "stdout",
     "output_type": "stream",
     "text": [
      "4  4  0\n",
      "3  4  -1\n",
      "120\n",
      "720\n",
      "\n",
      "3628800\n",
      "0.9999999999999999\n",
      "1.0\n",
      "6.0\n",
      "6.0\n",
      "\n",
      "5 60 180\n",
      "1  2  2  3\n",
      "1.7320508075688772\n"
     ]
    }
   ],
   "source": [
    "import math\n",
    "#1 math.ceil(x) //integer great than or equal to x 올림\n",
    "print(math.ceil(3.3),math.ceil(4),math.ceil(-0.9), sep=\"  \" ) \n",
    "#2 math.floor(x) // the largest integer less than or equal to x. () 내림\n",
    "print(math.floor(3.3), math.floor(4.),math.floor(-0.9), sep=\"  \") \n",
    "\n",
    "#3 math.comb(n, k) //Return the number of ways to choose k items from n items without repetition and without order\n",
    "print(math.comb(10,3)) # nCk\n",
    "#4 math.perm(n, k=None) // Return the number of ways to choose k items from n items without repetition and with order\n",
    "print(math.perm(10,3)) # nPk\n",
    "print()\n",
    "#5 math.factorial(x)\n",
    "print(math.factorial(10))\n",
    "\n",
    "#6 math.fsum(literable) not number in string \"  \"\n",
    "print(sum([.1, .1, .1, .1, .1, .1, .1, .1, .1, .1]))\n",
    "print(math.fsum([.1, .1, .1, .1, .1, .1, .1, .1, .1, .1])) #list\n",
    "print(math.fsum({1,2,3})) # set\n",
    "print(math.fsum((1,2,3))) # tuple\n",
    "print()\n",
    "#7 math.gcd(integers) //Return the greatest common divisor of the specified integer arguments, only two number\n",
    "print(math.gcd(225,215),math.gcd(120,180), math.gcd(0, 180), sep= ' ') \n",
    "  # - math.lcm(integers) //Return the least common multiple of the specified integer arguments\n",
    "  # - returned value is the smallest positive integer that is a multiple of all arguments 3.9\n",
    "\n",
    "#8 math.isqrt(integer) //Return the integer square root of the nonnegative integer/ 작은 정수\n",
    "print(math.isqrt(3), math.isqrt(4), math.isqrt(5) ,math.isqrt(10), sep= \"  \")\n",
    "#8 math.sqrt(x)\n",
    "print(math.sqrt(3))"
   ]
  },
  {
   "cell_type": "markdown",
   "metadata": {},
   "source": [
    "1) 정수 랜덤 (끝o, 끝x) <br>\n",
    "2) 정수 랜덤 (끝o, 끝o)  <br>\n",
    "3) 0~1 실수 확률 (끝o, 끝x)  끝 포함이 의미가 있을까?<br>\n",
    "4) 실수 랜덤 (끝o, 끝o)  <br>\n",
    "\n",
    "5) string과 list, tuple 의 요소 하나 랜덤  // set 안됨!!!!!<br>\n",
    "set에서는 선택이 안되기 때문에 list나 tuple로 바꿔서 선택 가능 <br>\n",
    "6) string과 lis, tuple 의 요소를 list로 받음 weight와 k로 확률과 길이를 설정 / 가중치 주기 편하고 list와 tuple을받는 것도 장점  <br>\n",
    "7) list로 sampling // set tuple list 모두 다 가능 <br> \n",
    "8) list의 suffling  <br>"
   ]
  },
  {
   "cell_type": "code",
   "execution_count": 3,
   "metadata": {},
   "outputs": [
    {
     "name": "stdout",
     "output_type": "stream",
     "text": [
      "60\n",
      "7\n",
      "0.19580582811663905\n",
      "26.32786567885114\n",
      "\n",
      " \n",
      "34\n",
      "56\n",
      "\n",
      "['7']\n",
      "['56']\n",
      "['56']\n",
      "[1, 1, 'banana', 1, 1, 1, 1, 'banana', 'banana', 1, 1, 1, 'cherry', 1]\n",
      "[1, 'banana', 1, 1, 'cherry', 1, 1, 1, 'cherry', 'banana', 'banana', 1, 'banana', 'banana']\n",
      "\n",
      "['banana', 'cherry', 1]\n",
      "['banana', 'cherry']\n",
      "[2, 1, 3]\n",
      "\n",
      "[34, 12, '56', 'HI']\n"
     ]
    }
   ],
   "source": [
    "import random   \n",
    "#1 random.randrange(start, stop[, step]) // start <= n < stop integer\n",
    "print(random.randrange(0, 100, 4)) # 0 4 8 12 .....  step의 배수 구하기 쉬움\n",
    "#2 random.randint(a, b) //Return a random integer N such that a <= N <= b. Alias for randrange(a, b+1). integer\n",
    "print(random.randint(0, 10))\n",
    "#3 random.random() //0 =< n <1 float \n",
    "print(random.random()) # 빈칸\n",
    "#4 random.uniform(a, b) // a =< n =< b float\n",
    "print(random.uniform(20,30))\n",
    "print()\n",
    "#5 random.choice(seq) //Return a random element from the non-empty sequence seq (list tuple string/ not set)\n",
    "print(random.choice(\"12 345 6789\")) # blank도 랜덤하게 읽는다. 모든 타입 str\n",
    "print(random.choice([12, 34,'56', \"HI\"])) # int and str/   not set\n",
    "print(random.choice((12, 34,'56', \"HI\"))) # tuple 가능\n",
    "print()\n",
    "\n",
    "#6 random.choices(sequence, weights=None or cum_weights=None, k=1) range도 가능하다고함\n",
    "print(random.choices(\"12 345 6789\"))# List 안에 str을 넣어줌 / 스트링이니 스티링으로 값을 돌려주는 것 #string\n",
    "print(random.choices([12, 34,'56', \"HI\"])) # List 안에 int and str을 넣어줌 # list\n",
    "print(random.choices((12, 34,'56', \"HI\")))   # tuple\n",
    "mylist = [1, \"banana\", \"cherry\"]\n",
    "print(random.choices(mylist, weights = [10, 2, 1], k = 14)) # 확률 /List 길이 / 순서 상관없음\n",
    "print(random.choices(mylist, cum_weights = [1, 2, 3 ], k = 14))  \n",
    "# For example, the relative weights [10, 5, 30, 5] are equivalent to the cumulative weights [10, 15, 45, 50].\n",
    "print()\n",
    "\n",
    "#7 random.sample(population, k) //while leaving the original population unchanged\n",
    "print(random.sample(mylist, k = 3)) # k =< len(list) #순서 상관없음 \n",
    "print(random.sample(mylist, k = 2)) # set tuple list 가능\n",
    "print(random.sample({1,2,3,4}, k=3 ))\n",
    "print()\n",
    "\n",
    "#8 random.shuffle(x[, random]) //무작위 순서 변경 원래 List 변경!\n",
    "a =  [12, 34,'56', \"HI\"] # list 가능 string tuple set 불가\n",
    "random.shuffle(a)\n",
    "print(a)"
   ]
  },
  {
   "cell_type": "markdown",
   "metadata": {},
   "source": [
    "``range()`` 함수는 반복문과 함께 자주 사용되는데, 다음과 같은 형태로 자주 사용합니다.<br>\n",
    "\n",
    "(a) ``range(limit)``: ``0``에서 ``limit - 1``까지를, ``1씩 증가하는 형태의`` 값으로 돌려 줍니다.<br> \n",
    "(b) ``range(start, end)``: ``start``에서 ``end -1``까지를, ``1씩 증가하는 형태의`` 값으로 돌려 줍니다.<br>\n",
    "(c) ``range(start, end, step)``: ``start``에서 ``end - 1``까지의 값을 돌려 주는데, 숫자의 증가폭을 ``step``만큼으로 합니다.<br>"
   ]
  },
  {
   "cell_type": "code",
   "execution_count": 7,
   "metadata": {},
   "outputs": [
    {
     "name": "stdout",
     "output_type": "stream",
     "text": [
      "10\n",
      "9\n",
      "8\n",
      "7\n",
      "6\n",
      "5\n",
      "4\n"
     ]
    }
   ],
   "source": [
    "# step이 음수일 경우 (큰수, 작은수 , -C) 가 되는데\n",
    "for i in range(10,3,-1): # 끝 값을 포함하지 않는다\n",
    "    print(i)"
   ]
  },
  {
   "cell_type": "markdown",
   "metadata": {},
   "source": [
    "Step_9_review <br>\n",
    "class는 모듈처럼 단순하게 하나의 화일에 물리적으로 모아 놓는 개념을 넘어서서, 데이터 값과 함수가 상호 의미적으로 연관되어 있는 의미있는 묶음을 의미한다 즉, 데이터와 함수가 묶여있는 타입을 Python에서는 Class라고 칭하며, Class안의 함수들을 Method라고 부릅니다.<br>\n",
    "class.method(parameter) 이나 parameter.method() 둘 중하나 선택 <br> \n",
    "ex) str.capitalize(\"hi\")   or    \"hi\".capitalize()"
   ]
  },
  {
   "cell_type": "code",
   "execution_count": 8,
   "metadata": {},
   "outputs": [
    {
     "name": "stdout",
     "output_type": "stream",
     "text": [
      "98765\n"
     ]
    }
   ],
   "source": [
    "a = '123456789'\n",
    "print(a[9:3:-1]) # index 3이 포함되지 않는다 즉 끝의 값을 포함하지 않는다."
   ]
  },
  {
   "cell_type": "code",
   "execution_count": null,
   "metadata": {},
   "outputs": [],
   "source": [
    "# str을 슬라이스 할 때 양수와 음수값을 동시에 쓸 수 있으며 간격이 음수이면 왼쪽에서 부터 거꾸로 읽는다\n",
    "# 간격이 음수여서 왼쪽에서 부터 읽으면 [A : B: - C]에서  A의 값이 포함되지 않는다. 이 때 A가 끝, B가 시작이다.\n",
    "# C 가 양수이면 [작은수 ; 큰수] C가 음수이면 [큰수 : 작은수](index 기준)\n",
    "# 중복되는 부분이 있으면 세지 않는다 BANANA에서 ANA 는 한 개 이다.\n",
    "# 또한 뒤에서 부터 세도 맨 앞부분의 index를 찾는다 (rfind)\n",
    "# upper과 lower은 원하는 문자만 대문자로는 바꿀 수가 없다."
   ]
  },
  {
   "cell_type": "code",
   "execution_count": 9,
   "metadata": {},
   "outputs": [
    {
     "name": "stdout",
     "output_type": "stream",
     "text": [
      "True   True   True   False\n",
      "False   False   True   False\n",
      "True   False   False   False\n",
      "True  False  True  False\n",
      " \n",
      "   12345    \n",
      " \n",
      "1\n",
      " \n",
      "a - b - c - d - e\n",
      "a - b - c - d - e\n",
      "abc - def - 12\n",
      "abcdef12\n"
     ]
    }
   ],
   "source": [
    "# str Method\n",
    "\n",
    "# isalnum() //Returns True if all characters in the string are alphanumeric (숫자 or 문자) (특수문자 X)\n",
    "print(\"123\".isalnum(), \"123e\".isalnum(), \"sdf\".isalnum(),',..'.isalnum() ,sep= '   ' )\n",
    "# isalpha() //Returns True if all characters in the string are in the alphabet (only 문자)\n",
    "print(\"123\".isalpha(), \"123e\".isalpha(), \"sdf\".isalpha(),',..'.isalpha() ,sep= '   ' )\n",
    "# isdecimal() //Returns True if all characters in the string are decimals (only 숫자)\n",
    "print(\"123\".isdecimal(), \"123e\".isdecimal(), \"sdf\".isdecimal(),',..'.isdecimal() ,sep= '   ' ) \n",
    "# isidentifier() // 숫자 or 문자 or _ /  A valid identifier cannot start with a number, or contain any spaces.\n",
    "print(\"asd_89aSD\".isidentifier(), '1234wer'.isidentifier(), '__sdfg'.isidentifier(), 'asdf..'.isidentifier(), sep= '  ')\n",
    "\n",
    "print(\" \")\n",
    "\n",
    "# str.center(length, character)\n",
    "print(str.center(\"12345\", 12))\n",
    " \n",
    "print(\" \")\n",
    "\n",
    "# str.count(value, start, end) //Return the number of value, start to search and ent the search\n",
    "print(\"qwerty werty wertqywerty dfqg\".count('q',3,20))\n",
    "\n",
    "print(\" \")\n",
    "\n",
    "#str.join(string , iterable ) //list's element can be only string\n",
    "print(str.join(' - ','abcde'))\n",
    "print(\" - \".join('abcde'))\n",
    "print(str.join(' - ',['abc', 'def', '12'])) \n",
    "print(str.join('',['abc', 'def', '12'])) # list를 string으로 바꿀 수 있다."
   ]
  },
  {
   "cell_type": "code",
   "execution_count": 10,
   "metadata": {},
   "outputs": [
    {
     "name": "stdout",
     "output_type": "stream",
     "text": [
      "17\n",
      "17\n"
     ]
    }
   ],
   "source": [
    "# str.find(value, start, end) // Start and end point/ the find() method returns -1 if the value is not found.\n",
    "print(\"qwerty werty wertqywerty dfqg\".find('q',3,20))\n",
    "# str.rfind(sub, start, end]]) Find the highest index (returns -1)\n",
    "# str.index(value, start, end) // find the first occurrence(index) of the specified value\n",
    "print((\"qwerty werty wertqywerty dfqg\".index('q',3,20))) #the index() method returns error if the value is not found.\n",
    "# str.rindex(value, start, end) //  Find the highest index (return error)"
   ]
  },
  {
   "cell_type": "code",
   "execution_count": 11,
   "metadata": {},
   "outputs": [
    {
     "name": "stdout",
     "output_type": "stream",
     "text": [
      "('I could eat ', 'bananas', ' all day, bananas are my favorite fruit')\n",
      "('I could eat bananas all day, ', 'bananas', ' are my favorite fruit')\n",
      "\n",
      "['I', 'could', 'eat', 'bananas', 'all', 'day,', 'bananas', 'are', 'my', 'favorite', 'fruit']\n",
      "['I could eat', '     ', ' bananas all day', ' bananas, are, my favorite fruit']\n",
      "['I coul,d eat      bana,n,as all, day, bananas, ,are my, favor', 'ite fruit']\n",
      "\n",
      "gg.....bana,..,rtgn,a....\n",
      "gg.....bana,..,rtgn,a....\n",
      "1111\n"
     ]
    }
   ],
   "source": [
    "# str.partition() //String > tuple (split str to 3 part) (First thing)\n",
    "print(\"I could eat bananas all day, bananas are my favorite fruit\".partition(\"bananas\"))\n",
    "# str.rpartition() // strin> tuple (split str to 3part) (Last thing)\n",
    "print(\"I could eat bananas all day, bananas are my favorite fruit\".rpartition(\"bananas\"))\n",
    "print()\n",
    "\n",
    "# str.split(sep, max) //chage a string to a list. default separator is any whitespace. Left SEP값은 사라짐!! \n",
    "print(\"I could eat      bananas all day, bananas are my favorite fruit\".split())\n",
    "print(\"I could eat,     , bananas all day, bananas, are, my favorite fruit\".split(\",\", 3)) \n",
    "# str.rsplit(sep, max) //Default value is -1, which is \"all occurrences\" Right\n",
    "print((\"I coul,d eat      bana,n,as all, day, bananas, ,are my, favor,ite fruit\".rsplit(',', 1))) \n",
    "print()\n",
    "\n",
    "# str.strip(char) // 동일하지 않은 문자가 하나라도 나올 때까지 양쪽에서 제거해나간다.!!!!!!!!!!!!!\n",
    "print(\",,,,,rrttgg.....bana,..,rtgn,a....rrr\".strip(\",rt\") )\n",
    "print(\",,,,,rrttgg.....bana,..,rtgn,a....trtr,trt,rtrtr,,rrr\".strip(\"t,r\") )\n",
    "print(\"        1111        \\n      \".strip()) #() 아무것도 없으면 whitespace 와 Enter를 없앰"
   ]
  },
  {
   "cell_type": "code",
   "execution_count": 12,
   "metadata": {
    "scrolled": true
   },
   "outputs": [
    {
     "name": "stdout",
     "output_type": "stream",
     "text": [
      "three one was a race horse, two two was one too.\n",
      "three three was a race horse, two two was one too.\n",
      "three one was a race horse, two two was one too.\n",
      "{109: 111, 83: 106, 97: 101, 72: None}\n",
      "{109: 111, 83: 106, 97: 101}\n",
      "<class 'dict'>\n",
      "Hi jeo! Hi jepo! \n",
      "i jeo! i jepo! \n"
     ]
    }
   ],
   "source": [
    "# str.replace(oldvalue, newvalue, count)\n",
    "# str은 바꿀 수 없기 때문에 바꾼 값을 저장해줘야한다. ex) str = str.replace('a','b')\n",
    "print(\"one one was a race horse, two two was one too.\".replace(\"one\", \"three\", 1))\n",
    "print(\"one one was a race horse, two two was one too.\".replace(\"one\", \"three\", 2))\n",
    "print(str.replace(\"one one was a race horse, two two was one too.\", \"one\", \"three\", 1))\n",
    "# strings.maketrans('x','y','z') //change 'x' to 'y' and delete 'z' and change strings to dictionary / ALL CHANGE\n",
    "print(\"Hi Sam! Hi Sam! \".maketrans('mSa', 'oje', 'H'))\n",
    "print(\"Hi Sam! Hi Sam! \".maketrans('mSa', 'oje'))\n",
    "print(type(\"Hi Sam! Hi Sam! \".maketrans('mSa', 'oje')))\n",
    "#str.translate(table) \n",
    "print(\"Hi Sam! Hi Sapm! \".translate(\"Hi Sam! Hi Sam! \".maketrans('mSa', 'oje')))\n",
    "print(\"Hi Sam! Hi Sapm! \".translate(\"Hi Sam! Hi Sam! \".maketrans('mSa', 'oje',\"H\")))"
   ]
  },
  {
   "cell_type": "code",
   "execution_count": 1,
   "metadata": {},
   "outputs": [
    {
     "name": "stdout",
     "output_type": "stream",
     "text": [
      "I ate 10 apples yesterday\n",
      "I ate 10 apples yesterday\n",
      "I ate 10 apples yesterday\n",
      "I ate 11.00 apples yesterday\n",
      "I ate 10 apples.\n"
     ]
    }
   ],
   "source": [
    "# str.format()\n",
    "txt ='{} ate {} apples {}'\n",
    "print(txt.format('I',10,'yesterday'))\n",
    "\n",
    "txt ='{0} ate {1} apples {2}'\n",
    "print(txt.format('I',10,'yesterday'))\n",
    "\n",
    "txt ='{person} ate {number} apples {when}'\n",
    "print(txt.format(person ='I', number=10, when = 'yesterday'))\n",
    "\n",
    "txt ='{} ate {:.2f} apples {}'\n",
    "print(txt.format('I',10.999,'yesterday')) # 반올림\n",
    "\n",
    "(a,b)=(\"I\",\"10\")\n",
    "print(f\"{a} ate {b} apples.\") # 추가"
   ]
  },
  {
   "cell_type": "markdown",
   "metadata": {},
   "source": [
    "Step_10_review <br>\n",
    "items  = [[\"item1\", 0.2], [\"item2\", 0.3], [\"item3\", 0.45], [\"item4\", 0.05] <br>\n",
    "elems = [i[0] for i in items] <br>\n",
    "probs = [i[1] for i in items]  list 와 loof의 복합<br> \n",
    "복사본의 수정은 원본에 변경을 주지 못하지만, 별칭의 수정은 원본에 대한 또 다른 이름을 준 것 뿐이기에 원본의 수정이 이루어 집니다.<br>\n",
    "courseAliasing = course # Alising - 변경 <br>\n",
    "courseCopy = course[:] # Copy whole elements와 list(course) 와 list.copy(list) - 변경 안됨 "
   ]
  },
  {
   "cell_type": "code",
   "execution_count": 4,
   "metadata": {},
   "outputs": [
    {
     "name": "stdout",
     "output_type": "stream",
     "text": [
      "JAVASCRIPT\n",
      "['Python', 'Javascript', 'C++', 'Go']\n"
     ]
    }
   ],
   "source": [
    "course = [ \"Python\", \"Javascript\", \"C++\", \"__reserved__\" ]\n",
    "course[3] = \"Go\" # course 가 수정됨\n",
    "course[1].upper() # course[1].upper()를 했지만 course가 수정되지 않음 \n",
    "print(course[1].upper())\n",
    "# 왜일까? str method라서 그런가\n",
    "print(course)"
   ]
  },
  {
   "cell_type": "code",
   "execution_count": 15,
   "metadata": {},
   "outputs": [
    {
     "name": "stdout",
     "output_type": "stream",
     "text": [
      "['Python', 'Javascript', 'C++', '__RESERVED__']\n"
     ]
    }
   ],
   "source": [
    "course = [ \"Python\", \"Javascript\", \"C++\", \"__reserved__\" ]\n",
    "course[3] =course[3].upper()  #이렇게는 수정됨/ 작 접 바 꿔 줘 야 하 는 듯\n",
    "print(course)"
   ]
  },
  {
   "cell_type": "code",
   "execution_count": 1,
   "metadata": {
    "scrolled": true
   },
   "outputs": [
    {
     "name": "stdout",
     "output_type": "stream",
     "text": [
      "[1, 2, 3, [22], 22]\n",
      "[1, 2, 3, 4, 5, 'str', 'q', 'w', 'e', 'r']\n",
      "[1, 3, 2]\n"
     ]
    }
   ],
   "source": [
    "#list method\n",
    "# list에는 find와 r 문법이 없다 대신에 index가 있는 듯. \n",
    "# list.append() //a[len(a):] = [x]\n",
    "\n",
    "list_1 = [1, 2, 3]   # list in list를 하고 싶다 \n",
    "list.append(list_1,[22] )  #list를 그대로 넣음\n",
    "list.append(list_1,22 )\n",
    "print(list_1)\n",
    "# list.extend() //a[len(a):] = iterable\n",
    "list_2 = [1, 2]  #  list를 늘리고 싶다. 요소를 하나하나 늘리고 싶다.\n",
    "list.extend(list_2,[3,4,5,'str']) # extend는 list의 요소 하나하나를 넣어줌/ string도 하나하나\n",
    "list.extend(list_2, \"qwer\")\n",
    "print(list_2)\n",
    "# list.insert(i, x) // index and x \n",
    "list_3 = [1, 2]\n",
    "list.insert(list_3, 1, 3)\n",
    "print(list_3)"
   ]
  },
  {
   "cell_type": "code",
   "execution_count": 17,
   "metadata": {},
   "outputs": [
    {
     "name": "stdout",
     "output_type": "stream",
     "text": [
      "[1, 2, 3, 4, 5, 6, 7]\n",
      "[7, 6, 5, 4, 3, 2, 1]\n",
      "[5, 4, 3, 2, 1]\n"
     ]
    }
   ],
   "source": [
    "# list.sort() //reverse=True will sort the list descending. Default is reverse=False\n",
    "list_8 = [1, 3, 4, 5, 6, 7, 2]\n",
    "list_8.sort()\n",
    "print(list_8)  #list의 수정\n",
    "list_8.sort(reverse = True)\n",
    "print(list_8)\n",
    "# list.reverse()\n",
    "list_9 = [1, 2, 3, 4, 5]\n",
    "list_9.reverse()\n",
    "print(list_9) #list의 수정"
   ]
  },
  {
   "cell_type": "code",
   "execution_count": 18,
   "metadata": {},
   "outputs": [
    {
     "name": "stdout",
     "output_type": "stream",
     "text": [
      "[1, 5, 2, 2, 3, 4]\n",
      "3  [1, 2, 4, 5]\n",
      "[2, 4, 5]\n",
      "\n",
      "[]\n",
      "\n"
     ]
    }
   ],
   "source": [
    "# list.remove(value) //Remove the first item  # value 제거\n",
    "list_4 = [1, 2, 5, 2, 2, 3, 4]\n",
    "list_4.remove(2)\n",
    "print(list_4)\n",
    "\n",
    "\n",
    "# list.pop(index) //Remove the item at the given position in the list, and return it. If no index is specified (빈칸이면)\n",
    "# a.pop() removes and returns the last item in the list. - give and remove\n",
    "list_5 = [1, 2, 3, 4, 5]\n",
    "print(list.pop(list_5, 2), list_5, sep= \"  \")\n",
    "# del list[index]\n",
    "del list_5[0]\n",
    "print(list_5)\n",
    "\n",
    "\n",
    "print()\n",
    "# list.clear() //Del a[:]\n",
    "list_6 = [1, 2, 3, 4, 5]\n",
    "list_6.clear()\n",
    "print(list_6)\n",
    "print(\"\")"
   ]
  },
  {
   "cell_type": "code",
   "execution_count": null,
   "metadata": {},
   "outputs": [],
   "source": [
    "추가적으로 list, dict, set 모두 pop이 있다.\n",
    "이때 set 은 무조건 empty이며 (순서가 없으니 random)\n",
    "list 는 empty or index 이며\n",
    "dict 은 not empty and keyname 이다.\n",
    "참고로 tuple은 pop이 없는데 그 이유는 tuple은 수정이 불가능하기 때문으로 보인다.(set, dict, list는 모두 수정 가능하니깐)"
   ]
  },
  {
   "cell_type": "code",
   "execution_count": 45,
   "metadata": {},
   "outputs": [
    {
     "name": "stdout",
     "output_type": "stream",
     "text": [
      "5\n",
      "\n",
      "[1, 2, 3, 4]      [1, 2, 3, 4]\n"
     ]
    }
   ],
   "source": [
    "# list.index(value, start, end) //Return zero-based index in the list of the first item\n",
    "list_7 = [1, 2, 3, 4, 5, 5, 5, 5, 9, 10]\n",
    "print(list_7.index(5, 5, 8)) #find index\n",
    "\n",
    "print()\n",
    "# list.copy() // = list[ : ]\n",
    "list_10 = [1, 2, 3, 4]\n",
    "print(list_10[ : ], list_10.copy(), sep = '      ')"
   ]
  },
  {
   "cell_type": "code",
   "execution_count": 20,
   "metadata": {},
   "outputs": [
    {
     "name": "stdout",
     "output_type": "stream",
     "text": [
      "[1, 2, 3, 5, 8]\n"
     ]
    }
   ],
   "source": [
    "# list 중복된 것만 찾기\n",
    "a = [1,1,1,1,1,1,2,3,5,8,13,24,34,55,70,70]\n",
    "b = [1,1,2,3,4,5,6,7,8,9,10,11,12,70,70]\n",
    "c = [ ]\n",
    "for i in range(len(a)):\n",
    "    if a[i] in b and not a[i] in c:\n",
    "        c = c + [a[i]]\n",
    "print(c)"
   ]
  },
  {
   "cell_type": "code",
   "execution_count": 2,
   "metadata": {},
   "outputs": [
    {
     "name": "stdout",
     "output_type": "stream",
     "text": [
      "[1, 1, 1, 1, 1, 1, 2, 3, 5, 8, 70, 70]\n"
     ]
    }
   ],
   "source": [
    "a = [1,1,1,1,1,1,2,3,5,8,13,24,34,55,70,70]\n",
    "b = [1,1,2,3,4,5,6,7,8,9,10,11,12,70,70]\n",
    "c = [ ]\n",
    "for i in range(len(a)):\n",
    "    if a[i] in b:\n",
    "        c = c + [a[i]]\n",
    "print(c)"
   ]
  },
  {
   "cell_type": "markdown",
   "metadata": {},
   "source": [
    "Step_11, 12_reiveiw <br>\n",
    "for 과 while loof <br>\n",
    "break : 반복문을 stop\n",
    "continue : 반복문을 skip하고 다음으로... <br>\n"
   ]
  },
  {
   "cell_type": "code",
   "execution_count": null,
   "metadata": {},
   "outputs": [],
   "source": [
    "변경 가능한 객체에 대한 반복문을 수행할 때 주의사항이 있는데\n",
    "1) 사전의 크기가 반복 중 변경되면 오류가 발생 (파이썬에서는 이터레이션하는 중에 사전을 변경할 수 없다.)\n",
    "2) 리스트에서 반복문을 통해 특정 원소를 제거할 때 의도와 다르게 오류 발생 가능성 (인덱스 증가로 인한 오류)"
   ]
  },
  {
   "cell_type": "code",
   "execution_count": 21,
   "metadata": {},
   "outputs": [
    {
     "name": "stdout",
     "output_type": "stream",
     "text": [
      "[1, 2, 3, 4]\n"
     ]
    }
   ],
   "source": [
    "songs =[1,1,2,3,4]\n",
    "for s in songs:\n",
    "    if s == 1:\n",
    "        songs.pop(s)\n",
    "print(songs)\n",
    "#반복하는 도중 인덱스가 이미 1로 올라갔기 때문에 인덱스 1부터 다시 반복문을 실행하기에 인덱스가 0인 1값은 그냥 넘어가게됨"
   ]
  },
  {
   "cell_type": "code",
   "execution_count": 22,
   "metadata": {},
   "outputs": [
    {
     "name": "stdout",
     "output_type": "stream",
     "text": [
      "[2, 3, 4]\n"
     ]
    }
   ],
   "source": [
    "songs=[1,1,2,3,4]\n",
    "other_songs = list(songs)\n",
    "songs=[]\n",
    "for i in other_songs:\n",
    "    if not i == 1:\n",
    "        songs.append(i)\n",
    "print(songs) # 이런식으로 해주자"
   ]
  },
  {
   "cell_type": "markdown",
   "metadata": {},
   "source": [
    "Step_13_review <br>\n",
    "variable = open('File_name'.'i') <br>\n",
    "variable.close() <br>\n",
    "append는 파일 맨 뒤에? <br>\n",
    "write는 파일 앞부터 덮어쓰기? <br>\n",
    " i =  [ 'a' = append, 'r' = read, 'w' = write, 'x' = create ]"
   ]
  },
  {
   "cell_type": "code",
   "execution_count": 23,
   "metadata": {},
   "outputs": [
    {
     "name": "stdout",
     "output_type": "stream",
     "text": [
      "[Before]\n",
      "[['ID', 'Python', 'C++', 'Javascript', 'Go'], ['20190001', 'A', 'A', 'A', 'A'], ['20190002', 'A', 'B', 'A', 'C'], ['20190003', 'C', 'B', 'C', 'A'], ['20190004', 'B', 'B', 'B', 'B']]\n",
      "[After]\n",
      "[['ID', 'Python', 'C++', 'Javascript', 'Go', 'HTML5', 'CSS3'], ['20190001', 'A', 'A', 'A', 'A', '_', '_'], ['20190002', 'A', 'B', 'A', 'C', '_', '_'], ['20190003', 'C', 'B', 'C', 'A', '_', '_'], ['20190004', 'B', 'B', 'B', 'B', '_', '_']]\n"
     ]
    }
   ],
   "source": [
    "import csv\n",
    "\n",
    "fileMatrix = []\n",
    "\n",
    "with open('Step_13_SampleFile_score.csv', 'r' ) as fileRead:\n",
    "    myreader = csv.reader(fileRead)\n",
    "    for i in myreader:\n",
    "        fileMatrix.append(i)  #  fileMatrix.append(lineContent.strip('\\n').split(','))\n",
    "print(\"[Before]\")\n",
    "print(fileMatrix)\n",
    "\n",
    "fileMatrix[0].extend([\"HTML5\", \"CSS3\"])\n",
    "lenFileMatrix = len(fileMatrix)\n",
    "for i in range(lenFileMatrix - 1):\n",
    "    i = i + 1\n",
    "    fileMatrix[i].extend([\"_\", \"_\"])\n",
    "print(\"[After]\")\n",
    "print(fileMatrix) \n",
    "with open('Step_13_SampleFile_newScore.csv', 'w') as fileWrite: # w\n",
    "    myWriter = csv.writer(fileWrite)\n",
    "    for i in range(lenFileMatrix): \n",
    "        myWriter.writerow(fileMatrix[i]) "
   ]
  },
  {
   "cell_type": "code",
   "execution_count": 24,
   "metadata": {},
   "outputs": [
    {
     "name": "stdout",
     "output_type": "stream",
     "text": [
      "<_csv.reader object at 0x00000249D0830520>\n",
      "<class '_csv.reader'>\n"
     ]
    }
   ],
   "source": [
    "print(myreader)\n",
    "print(type(myreader))"
   ]
  },
  {
   "cell_type": "code",
   "execution_count": 25,
   "metadata": {},
   "outputs": [
    {
     "name": "stdout",
     "output_type": "stream",
     "text": [
      "Help on built-in function writer in module _csv:\n",
      "\n",
      "writer(...)\n",
      "    csv_writer = csv.writer(fileobj [, dialect='excel']\n",
      "                                [optional keyword args])\n",
      "        for row in sequence:\n",
      "            csv_writer.writerow(row)\n",
      "    \n",
      "        [or]\n",
      "    \n",
      "        csv_writer = csv.writer(fileobj [, dialect='excel']\n",
      "                                [optional keyword args])\n",
      "        csv_writer.writerows(rows)\n",
      "    \n",
      "    The \"fileobj\" argument can be any object that supports the file API.\n",
      "\n"
     ]
    }
   ],
   "source": [
    "help(csv.writer)"
   ]
  },
  {
   "cell_type": "markdown",
   "metadata": {},
   "source": [
    "Step_14_review <br>\n",
    "Data_Collection_Types - set,list,tuple,dict...."
   ]
  },
  {
   "cell_type": "code",
   "execution_count": 2,
   "metadata": {},
   "outputs": [
    {
     "name": "stdout",
     "output_type": "stream",
     "text": [
      "{1, 2}\n",
      "{1, 2}\n",
      "\n",
      "{3}\n",
      "{3}\n"
     ]
    }
   ],
   "source": [
    "# set method\n",
    "\n",
    "# add() , clear(), copy() \n",
    "# set.remove() and set.discard()// set.discard will not raise an error if the item does not exist in the set\n",
    "# set.isdisjoint(), issubset(), issuperset() \n",
    "# random.choice(s)를 사용할 수 없다.\n",
    "# set()[i]로 읽을 수가 없다. ( 순서가 없어서 그런가 보다 ) # 하지만 enumerate 사용해서 넘버링은 가능하지만 굳이..?\n",
    "# sampling 은 가능하다 근데 어차피 튜플이나 list로 바꿔서 하는게 편하지 않을까? 다양한 method를 더 쓸 수 있으니..\n",
    "new_set = set() # not new_set = {  }\n",
    "\n",
    "# set.different()// A-B = C make new set\n",
    "aset = {1,2,3}\n",
    "bset = {3,4,5}\n",
    "cset = aset.difference(bset)\n",
    "print(cset)\n",
    "# set.difference_update()// A-B change the origianl set A\n",
    "aset = {1,2,3}\n",
    "bset = {3,4,5}\n",
    "aset.difference_update(bset)\n",
    "print(aset)\n",
    "print('')\n",
    "\n",
    "# set.intersection()// A n B make new set\n",
    "aset = {1,2,3}\n",
    "bset = {3,4,5}\n",
    "cset = aset.intersection(bset)\n",
    "print(cset)\n",
    "# set.intersection_update()// A n B change the origianl set A\n",
    "aset = {1,2,3}\n",
    "bset = {3,4,5}\n",
    "aset.intersection_update(bset)\n",
    "print(aset)"
   ]
  },
  {
   "cell_type": "code",
   "execution_count": 2,
   "metadata": {},
   "outputs": [
    {
     "name": "stdout",
     "output_type": "stream",
     "text": [
      "{1, 2, 4, 5}\n",
      "{1, 2, 4, 5}\n",
      "\n",
      "{1, 2, 3, 4, 5}\n",
      "{1, 2, 3, 4, 5}\n",
      "\n",
      "4\n",
      "{'3', '1', '0', '2'}\n",
      "{'3', '1', '0'}\n",
      "{'1', '0'}\n"
     ]
    }
   ],
   "source": [
    "# set.symmetric_difference() and  set.symmetric_difference_update()  A U B - A n B\n",
    "aset = {1,2,3}\n",
    "bset = {3,4,5}\n",
    "cset = aset.symmetric_difference(bset)\n",
    "print(cset)\n",
    "\n",
    "aset = {1,2,3}\n",
    "bset = {3,4,5}\n",
    "aset.symmetric_difference_update(bset)\n",
    "print(aset)\n",
    "print('')\n",
    "\n",
    "#set.union() and set.update()\n",
    "aset = {1,2,3}\n",
    "bset = {3,4,5}\n",
    "cset = aset.union(bset)\n",
    "print(cset)\n",
    "\n",
    "aset = {1,2,3}\n",
    "bset = {3,4,5}\n",
    "aset.update(bset)\n",
    "print(aset)\n",
    "print('')\n",
    "\n",
    "# set.pop() //remove random item and return the removed item\n",
    "# set.remove() and set.discard()// set.discard will not raise an error if the item does not exist in the set\n",
    "# set.discard() removed specified vaule!\n",
    "aset = {\"0\",\"1\",'2','3',4}\n",
    "print(aset.pop()) # empty list의 pop과 다르게 ( )안에 아무것도 올 수 없다.\n",
    "print(aset) #set에서 제거됨\n",
    "aset.discard(\"2\") # 특정한 value 제거\n",
    "print(aset)\n",
    "aset.remove(\"3\") # 특정한 value 제거 \n",
    "print(aset)"
   ]
  },
  {
   "cell_type": "code",
   "execution_count": null,
   "metadata": {},
   "outputs": [],
   "source": [
    "tuple 의 len은 객체의 개수를 나타낸다.\n",
    "슬라이스도 가능하다.\n",
    "튜플은 + 와 * 연산이 가능하다. \n",
    "지원하는 Method가 좀 없다."
   ]
  },
  {
   "cell_type": "code",
   "execution_count": 27,
   "metadata": {},
   "outputs": [
    {
     "name": "stdout",
     "output_type": "stream",
     "text": [
      "3\n",
      "4\n",
      "(1, 2, 3, 4, (4, 5))\n",
      "(1, 2, 1, 2, 1, 2)\n",
      "\n",
      "Hi  hello\n",
      "\n",
      "(123, 'hello', 'Hi')\n"
     ]
    }
   ],
   "source": [
    "# tuple method\n",
    "\n",
    "new_tuple = ()\n",
    "# tuple.count(item)// count a number of item\n",
    "print((1,2,3,4,5,5,5).count(5))\n",
    "\n",
    "# tuple.index(item)// retrun the first index of item\n",
    "print((1,2,3,4,5,5,5).index(5))\n",
    "# 제공하는 sort는 없지만 기존의 sorted를 사용할 수 있다.\n",
    "    \n",
    "print((1,2)+(3,4)+((4,5),))\n",
    "print((1,2)* 3)\n",
    "print()\n",
    "   \n",
    "a = \"hello\"\n",
    "b = \"Hi\"\n",
    "(a,b) = (b,a)\n",
    "print(a,b,sep = \"  \")  # a와 b의 값을 바꾼다\n",
    "print() # 만약에 3개라면?\n",
    "c = 123\n",
    "(a,b,c) = (c,b,a)  # 여러개도 가능하다.\n",
    "print((a,b,c))"
   ]
  },
  {
   "cell_type": "code",
   "execution_count": 1,
   "metadata": {},
   "outputs": [
    {
     "name": "stdout",
     "output_type": "stream",
     "text": [
      "['c', 'b', 'd', 'a']\n",
      "['a', 'b', 'c', 'd']\n"
     ]
    }
   ],
   "source": [
    "first_dict = {\"c\":1, \"b\": 1, 'd': 3, \"a\" : 4 }\n",
    "lst=[]\n",
    "for i in first_dict:\n",
    "    lst.append(i)  # key값을 준다.\n",
    "print(lst)\n",
    "print(sorted(first_dict)) # 이 때는 key의 타입이 동일해야한다!! (숫자와 문자 혼합 XXX)"
   ]
  },
  {
   "cell_type": "code",
   "execution_count": 6,
   "metadata": {},
   "outputs": [
    {
     "name": "stdout",
     "output_type": "stream",
     "text": [
      "dict_keys(['f', 'b', 'd', 'a'])\n",
      "{'f': 3, 'b': 2, 'd': 10, 'a': 2}\n"
     ]
    }
   ],
   "source": [
    "# value 값 변경 key값은 변경 안하는 것이 dict의 특징 아닐까 싶고 추가나 삭제는 가능하잖아?\n",
    "first_dict = {\"f\":3, \"b\": 2, 'd': 10, \"a\" : 1 }\n",
    "print(first_dict.keys()) # 형태가 특이하므로 밑에처럼 list로 받아준다.\n",
    "firstK = list(first_dict.keys())\n",
    "firstV = list(first_dict.values())\n",
    "for i in first_dict:\n",
    "    if first_dict[i] == 1 :\n",
    "        first_dict[i] += 1\n",
    "print(first_dict)"
   ]
  },
  {
   "cell_type": "code",
   "execution_count": 30,
   "metadata": {},
   "outputs": [
    {
     "name": "stdout",
     "output_type": "stream",
     "text": [
      "{1: [1, 2, 3], 2: [1, 2, 3], 3: [1, 2, 3]} {1: (1, 2, 3), 2: (1, 2, 3), 3: (1, 2, 3)} {1: {1, 2, 3}, 2: {1, 2, 3}, 3: {1, 2, 3}}\n",
      "{1: [1, 2, 3], 2: [1, 2, 3], 3: [1, 2, 3]} {1: (1, 2, 3), 2: (1, 2, 3), 3: (1, 2, 3)} {1: {1, 2, 3}, 2: {1, 2, 3}, 3: {1, 2, 3}}\n",
      "{1: [1, 2, 3], 2: [1, 2, 3], 3: [1, 2, 3]} {1: (1, 2, 3), 2: (1, 2, 3), 3: (1, 2, 3)} {1: {1, 2, 3}, 2: {1, 2, 3}, 3: {1, 2, 3}}\n"
     ]
    }
   ],
   "source": [
    "# dict.fromkeys(a, b) \n",
    "x = [1,2,3]  # list\n",
    "y = (1,2,3) # tuple  # A와B 자리에 list, tuple, set 상관없이 모두 가능하다.\n",
    "z = {1, 2, 3} #set \n",
    "\n",
    "print(dict.fromkeys(x,x), dict.fromkeys(x,y), dict.fromkeys(x,z), sep = \" \")\n",
    "print(dict.fromkeys(y,x), dict.fromkeys(y,y), dict.fromkeys(y,z), sep = \" \")\n",
    "print(dict.fromkeys(z,x), dict.fromkeys(z,y), dict.fromkeys(z,z), sep = \" \")"
   ]
  },
  {
   "cell_type": "code",
   "execution_count": 31,
   "metadata": {
    "scrolled": true
   },
   "outputs": [
    {
     "name": "stdout",
     "output_type": "stream",
     "text": [
      "Mustang\n",
      "Mustang\n",
      "Mustang\n",
      "\n",
      "Mustang\n",
      "{'brand': 'Ford', 'year': 1964}\n",
      "1234\n",
      "{'brand': 'Ford', 'year': 1964}\n"
     ]
    }
   ],
   "source": [
    "# dictionary method \n",
    "# clear(), copy()\n",
    "\n",
    "# dict.get() = dict[key] \n",
    "car = { \"brand\": \"Ford\", \"model\": \"Mustang\", \"year\": 1964}\n",
    "x = car.get(\"model\")\n",
    "print(x)              #key >>> value\n",
    "print(car[\"model\"])\n",
    "print(car[\"model\"])  #key >>> value / dict 은 순서가 중요한 것이 아니므로 index가 아닌 key에서 value를 찾는다.\n",
    "\n",
    "print(\"\") \n",
    "# dict.pop(keyname, defaultvalue)   # not empty\n",
    "car = { \"brand\": \"Ford\", \"model\": \"Mustang\", \"year\": 1964}\n",
    "print(dict.pop(car,\"model\")) #value를 돌려주면서 dict에서 제거한다.\n",
    "print(car) \n",
    "x = dict.pop(car,\"WOWOWO\",\"1234\")\n",
    "print(x) # if key does not exist, return the defaulfvalue\n",
    "print(car)"
   ]
  },
  {
   "cell_type": "code",
   "execution_count": 28,
   "metadata": {},
   "outputs": [
    {
     "name": "stdout",
     "output_type": "stream",
     "text": [
      "Mustang\n",
      "{'brand': 'Ford', 'model': 'Mustang', 'year': 1964}\n",
      "{'brand': 'Ford', 'model': 'Mustang', 'year': 1964, 'friend': 'chaewoo'}\n",
      "\n",
      "{'brand': 'Ford', 'model': 'Mustang', 'year': 1964, 'color': 'White'}\n",
      "\n",
      "{'brand': 'Ford', 'model': 'White model', 'year': 1000001964}\n"
     ]
    }
   ],
   "source": [
    "# dict.setdefault(k, d) 4)  # key값이 없으면, key 와 value 값을 모두 추가/ 있으면 value값 반환 key >>> value\n",
    "# 즉 key값이 기존에 있을 때 기존의 key 값의 value를 건들지 않는다(주어진 값이랑 기존 값이랑 다르더라도)\n",
    "car = { \"brand\": \"Ford\", \"model\": \"Mustang\", \"year\": 1964}\n",
    "print(car.setdefault(\"model\" , \"Mustangss\")) # key값이 있기 때문에 value값 반환/ get 과 같다.\n",
    "\n",
    "car.setdefault(\"model\", \"Bronco\") # if key exists, nothing occurs  O X\n",
    "print(car)\n",
    "car.setdefault(\"friend\", \"chaewoo\") #if key is not exit ,  +++   X X\n",
    "print(car)\n",
    "\n",
    "print()\n",
    "# dict.update()  # 만약에 key가 곂치면 수정 없으면 ++ 가장 좋아보임\n",
    "car = { \"brand\": \"Ford\", \"model\": \"Mustang\", \"year\": 1964}\n",
    "car.update({\"color\": \"White\"})\n",
    "print(car)\n",
    "print(\"\")\n",
    "car = { \"brand\": \"Ford\", \"model\": \"Mustang\", \"year\": 1964} ## 모양 신경 쓸 것 { : }\n",
    "car.update({\"model\": \"White model\"})\n",
    "for k in car.keys():\n",
    "    if (type(car[k]) == int) or (type(car[k]) == float) :\n",
    "        car[k] = car[k] + 1000000000\n",
    "print(car)"
   ]
  },
  {
   "cell_type": "code",
   "execution_count": 33,
   "metadata": {},
   "outputs": [
    {
     "name": "stdout",
     "output_type": "stream",
     "text": [
      "{'box': ['fight']}\n",
      "{'box': ['fight', 'container']}\n",
      "{'box': ['fight', 'container'], 'ox': ['anmial']}\n"
     ]
    }
   ],
   "source": [
    "def add_word(d, word, definition):\n",
    "    if word in d :\n",
    "        d[word].append(definition) # value는 list형태를 가지고 있으므로 append이용\n",
    "    else:\n",
    "        d[word] = [definition] # dict[key] = [value] 의 형태를 만들어 dict에 key:[value]로 추가한다.\n",
    "words = {}\n",
    "add_word(words,'box','fight')\n",
    "print(words)\n",
    "add_word(words,'box','container')\n",
    "print(words)\n",
    "add_word(words,'ox', 'anmial')\n",
    "print(words)"
   ]
  },
  {
   "cell_type": "code",
   "execution_count": 29,
   "metadata": {},
   "outputs": [
    {
     "name": "stdout",
     "output_type": "stream",
     "text": [
      "4          12.56\n"
     ]
    }
   ],
   "source": [
    "# 함수를 사전에 저장  { \"변수\" : 함수 이름 }\n",
    "def square(x):\n",
    "    return x * x\n",
    "def circle(r):\n",
    "    return 3.14*r*r\n",
    "\n",
    "areas = {\"Sq\":square, \"Ci\": circle }\n",
    "print(areas[\"Sq\"](2),areas[\"Ci\"](2), sep=\"          \")"
   ]
  },
  {
   "cell_type": "code",
   "execution_count": 7,
   "metadata": {},
   "outputs": [
    {
     "name": "stdout",
     "output_type": "stream",
     "text": [
      "dict_items([('brand', 'Ford'), ('model', 'Mustang'), ('year', 1964)])\n",
      "<class 'dict_items'>\n",
      "[('brand', 'Ford'), ('model', 'Mustang'), ('year', 1964)]\n",
      "dict_keys(['brand', 'model', 'year'])\n",
      "<class 'dict_keys'>\n",
      "dict_values(['Ford', 'Mustang', 1964])\n",
      "<class 'dict_values'>\n"
     ]
    }
   ],
   "source": [
    "# dict.item() # 3개 모두다 list[x]할 수 없다.\n",
    "car = { \"brand\": \"Ford\", \"model\": \"Mustang\", \"year\": 1964}\n",
    "x = car.items()\n",
    "print(x)\n",
    "print(type(x))\n",
    "print(list(x)) #list로 바꿔서 사용할 것\n",
    "# dict.keys()\n",
    "car = { \"brand\": \"Ford\", \"model\": \"Mustang\", \"year\": 1964}\n",
    "y = car.keys()\n",
    "print(y)\n",
    "print(type(y))\n",
    "# dict.values()\n",
    "car = { \"brand\": \"Ford\", \"model\": \"Mustang\", \"year\": 1964}\n",
    "z = car.values()\n",
    "print(z)\n",
    "print(type(z))"
   ]
  },
  {
   "cell_type": "code",
   "execution_count": 3,
   "metadata": {},
   "outputs": [
    {
     "name": "stdout",
     "output_type": "stream",
     "text": [
      "[('brand', 'Ford'), ('model', 'Mustang'), ('year', 1964)]\n",
      "['brand', 'model', 'year']\n",
      "['Ford', 'Mustang', 1964]\n",
      "['brand', 'model', 'year']\n",
      "['Ford', 'Mustang', 1964]\n",
      "[1, 3, 10]\n"
     ]
    }
   ],
   "source": [
    "# 하지만 for 문을 돌리거나 list로 만들수가 있는데\n",
    "print(list(x))\n",
    "print(list(y))\n",
    "print(list(z))\n",
    "# 또한 for문을 이용하면\n",
    "k = []\n",
    "u = []\n",
    "for i in y :\n",
    "    k.append(i)\n",
    "print(k)\n",
    "for i in z:\n",
    "    u.append(i)\n",
    "print(u)    \n",
    "\n",
    "#또한 key값의 타입이 동일하면\n",
    "print(sorted({1:'a',10:'b',3:'c'})) # dict >  key_list"
   ]
  },
  {
   "cell_type": "code",
   "execution_count": 6,
   "metadata": {},
   "outputs": [],
   "source": [
    "# 타입 변환\n",
    "# list set tuple로는 자유롭다.\n",
    "lst1 = [1,2,3,4]\n",
    "set1 = {1,2,3,4}\n",
    "tuple1 = (1,2,3,4)\n",
    "dict1 = {1:\"a\",2:\"b\",3:'c',4:'d'}  #key 값이 나온다.\n",
    "str1 = \"qwer\"\n",
    "k = (lst1, set1, tuple1,dict1,str1)"
   ]
  },
  {
   "cell_type": "code",
   "execution_count": 7,
   "metadata": {},
   "outputs": [
    {
     "name": "stdout",
     "output_type": "stream",
     "text": [
      "[1, 2, 3, 4]\n",
      "[1, 2, 3, 4]\n",
      "[1, 2, 3, 4]\n",
      "[1, 2, 3, 4]\n",
      "['q', 'w', 'e', 'r']\n",
      "\n",
      "{1, 2, 3, 4}\n",
      "{1, 2, 3, 4}\n",
      "{1, 2, 3, 4}\n",
      "{1, 2, 3, 4}\n",
      "{'e', 'q', 'r', 'w'}\n",
      "\n",
      "(1, 2, 3, 4)\n",
      "(1, 2, 3, 4)\n",
      "(1, 2, 3, 4)\n",
      "(1, 2, 3, 4)\n",
      "('q', 'w', 'e', 'r')\n"
     ]
    }
   ],
   "source": [
    "for i in k:\n",
    "    print(list(i))\n",
    "print()\n",
    "\n",
    "for i in k:\n",
    "    print(set(i))\n",
    "print()\n",
    "\n",
    "for i in k:\n",
    "    print(tuple(i))"
   ]
  },
  {
   "cell_type": "markdown",
   "metadata": {},
   "source": [
    "Step_15_review <br>\n",
    "Search_Method <br>\n",
    "시간 측정 방법 - Python의 time 모듈을 import한 후, 시간 측정 함수인 time.perf_counter()"
   ]
  },
  {
   "cell_type": "code",
   "execution_count": 38,
   "metadata": {},
   "outputs": [],
   "source": [
    "import time\n",
    "\n",
    "def time_it(searchMethod, lst, value):\n",
    "    t1 = time.perf_counter() # 기존 시간\n",
    "    if searchMethod(lst, value) == -1 :  # 이 부분에서 함수를 실행 > 시간 체크 가능 \n",
    "        print(\"Error\")\n",
    "    t2 = time.perf_counter() # 함수 실행 후의 시간\n",
    "    return t2 -t1 # 함수 작동 시간"
   ]
  },
  {
   "cell_type": "code",
   "execution_count": 39,
   "metadata": {},
   "outputs": [
    {
     "name": "stdout",
     "output_type": "stream",
     "text": [
      "Error\n",
      "0.7284811999999761\n",
      "2.6999999818144715e-06\n",
      "0.7981491999999548\n"
     ]
    }
   ],
   "source": [
    "def linear_search_for(lst1, value1):\n",
    "    i = 0\n",
    "    for i in range(len(lst1)):\n",
    "        if lst1[i] == value1: # 반복을 len(list)만 하기에 오류가 안난다.\n",
    "            return i\n",
    "    return -1\n",
    "L = list(range(10000001))\n",
    "\n",
    "print(time_it(linear_search_for, L, -10)) #없음\n",
    "print(time_it(linear_search_for, L, 0)) #처음\n",
    "print(time_it(linear_search_for, L, 10000000)) # 끝 "
   ]
  },
  {
   "cell_type": "code",
   "execution_count": 40,
   "metadata": {},
   "outputs": [
    {
     "name": "stdout",
     "output_type": "stream",
     "text": [
      "Error\n",
      "2.5739906999999675\n",
      "9.999999974752427e-07\n",
      "2.30345269999998\n"
     ]
    }
   ],
   "source": [
    "def linear_search_while(lst, value):\n",
    "    i = 0\n",
    "    while lst[i] != value and (len(lst) -1)  != i: # len(lst) != i 문법은 반복문의 반복 횟수를 제한해준다.\n",
    "        i = i+1                 # 만약 len(lst) != i 가 없고 함수를 찾지 못하면 무한으로 i +=1 을 수행하기 때문이다.\n",
    "    if lst[i] != value:      # len(list) -1 을 해야 값이 없을 때 마지막 index를 비교할 때 오류가 없음.\n",
    "        return - 1\n",
    "    else:\n",
    "        return i\n",
    "\n",
    "L = list(range(10000001))\n",
    "\n",
    "print(time_it(linear_search_while, L, - 10))\n",
    "print(time_it(linear_search_while, L, 0))\n",
    "print(time_it(linear_search_while, L, 10000000))"
   ]
  },
  {
   "cell_type": "code",
   "execution_count": 41,
   "metadata": {},
   "outputs": [
    {
     "name": "stdout",
     "output_type": "stream",
     "text": [
      "Error\n",
      "2.0234327999999664\n",
      "2.19999998307685e-06\n",
      "2.0842530999999553\n"
     ]
    }
   ],
   "source": [
    "def sentinel_Linear_serach(lst, value):\n",
    "    list.append(lst, value)\n",
    "    i = 0  # 0- 29 길이는 30 index 29가 최대 \n",
    "    while value != lst[i] and i != len(lst) - 2 : # 추가되서 0-30 길이는 31 인덱스는 최대 30 이어야함 \n",
    "        i = i+1  # 마지막으로 i 대입 값은 28이어야 28+1 = 29 \n",
    "\n",
    "    list.pop(lst) \n",
    "    if lst[i] == value:  # i의 최대는 29\n",
    "        return i\n",
    "    else :\n",
    "        return -1 \n",
    "L = list(range(10000001))   \n",
    "print(time_it(sentinel_Linear_serach, L, -10))\n",
    "print(time_it(sentinel_Linear_serach, L, 0))\n",
    "print(time_it(sentinel_Linear_serach, L, 10000000))"
   ]
  },
  {
   "cell_type": "code",
   "execution_count": 42,
   "metadata": {},
   "outputs": [
    {
     "name": "stdout",
     "output_type": "stream",
     "text": [
      "6.20000002982124e-06\n",
      "None\n",
      "4.9999999873762135e-06\n"
     ]
    }
   ],
   "source": [
    "import bisect # assuming lst is sorted 상태\n",
    "\n",
    "def time_it(searchMethod, lst , value):\n",
    "    t1= time.perf_counter()\n",
    "    if searchMethod(lst, value) == value:\n",
    "        t2= time.perf_counter()\n",
    "        return t2-t1\n",
    "\n",
    "def bisect_search(L, value):\n",
    "    return bisect.bisect_left(L, value)\n",
    "L = list(range(10000001))\n",
    "print((time_it(bisect_search, L, 0)))\n",
    "print(time_it(bisect_search, L, - 10 ))\n",
    "print(time_it(bisect_search, L, 10000000))"
   ]
  },
  {
   "cell_type": "code",
   "execution_count": null,
   "metadata": {},
   "outputs": [],
   "source": [
    "help(bisect)"
   ]
  },
  {
   "cell_type": "markdown",
   "metadata": {},
   "source": [
    "step_16_review <br>\n",
    "class"
   ]
  },
  {
   "cell_type": "code",
   "execution_count": null,
   "metadata": {},
   "outputs": [],
   "source": [
    "class > object를 설계함\n"
   ]
  }
 ],
 "metadata": {
  "kernelspec": {
   "display_name": "Python 3",
   "language": "python",
   "name": "python3"
  },
  "language_info": {
   "codemirror_mode": {
    "name": "ipython",
    "version": 3
   },
   "file_extension": ".py",
   "mimetype": "text/x-python",
   "name": "python",
   "nbconvert_exporter": "python",
   "pygments_lexer": "ipython3",
   "version": "3.8.3"
  }
 },
 "nbformat": 4,
 "nbformat_minor": 4
}
